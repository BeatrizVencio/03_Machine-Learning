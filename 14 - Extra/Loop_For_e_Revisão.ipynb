{
  "cells": [
    {
      "cell_type": "markdown",
      "metadata": {
        "id": "HC1_n2jRE_sZ"
      },
      "source": [
        "# 1 - Tipos de Variáveis Aprendidos\n",
        "\n",
        "* int - Algarismos numéricos inteiros;\n",
        "* float - Algarismos numéricos decimais (ponto flutuante);\n",
        "* str - Caracteres que formam palavras, frases e textos;\n",
        "* bool - Expressões que representam verdadeiro (True) ou falso (False);\n",
        "* list - Listas\n",
        "* dict - Dicionários - Relação de Chave e Valor\n",
        "\n",
        "### Criação de Variáveis:\n",
        "* No python, primeiro é definido o nome da variável que é seguido por um único sinal de igual `=`, em seguida o valor desejado, seguindo o exemplo -> `nome_da_variavel = valor_da_variavel`\n",
        "#\n",
        "* Nome da variável ``não pode``:\n",
        "    * Começar com números;\n",
        "    * Conter espaço;\n",
        "    * Conter ou começar com caracteres especiais (`:'\",<>/?|\\!@#%^&*~-+`), exceto `_` (\"Underline\");\n",
        "    * Ser uma palavra que faz parte do python(True, False, while, for, in, list, str...).\n",
        "#\n",
        "* Nome da variável ``pode``:\n",
        "    * Começar com letras maiúsculas ou minúsculas;\n",
        "    * Conter ou começar com _ (\"Underline\").\n",
        "#\n",
        "* Boas práticas para nome de variáveis:\n",
        "    * Todas letras minúsculas;\n",
        "    * Nomes compostos separados por _  (\"Underline\");\n",
        "    * Evitar criar nomes com caracteres únicos (a, A, b, B, c, C...);\n",
        "    * Dar nomes intuitivos para as variáveis.\n",
        "#\n",
        "##### OBS_1:\n",
        "O Python é uma linguagem `Case-Sensitive`. Significa que variáveis de mesmo nome, mas com maiúsculas ou minúsculas diferentes, são variáveis diferentes.\n",
        "\n",
        "EX: a variável `nome` é diferente da variável `Nome` que também é diferente da variável `NOME`"
      ]
    },
    {
      "cell_type": "markdown",
      "metadata": {
        "id": "i81h4VZmE_sb"
      },
      "source": [
        "### 1.1 - Número Inteiro"
      ]
    },
    {
      "cell_type": "code",
      "execution_count": 1,
      "metadata": {
        "id": "x4Sf2OdpE_sc"
      },
      "outputs": [],
      "source": [
        "# Criação da variável numérica numero_inteiro_1\n",
        "numero_inteiro_1 = 10\n",
        "\n",
        "# Criação da variável numérica numero_inteiro_2\n",
        "numero_inteiro_2 = 4"
      ]
    },
    {
      "cell_type": "code",
      "execution_count": 2,
      "metadata": {
        "colab": {
          "base_uri": "https://localhost:8080/"
        },
        "id": "991X2pljE_sc",
        "outputId": "ef024821-b341-4c35-8574-723fc01daab8"
      },
      "outputs": [
        {
          "output_type": "stream",
          "name": "stdout",
          "text": [
            "numero_inteiro_1 = 10\n",
            "numero_inteiro_2 = 4\n"
          ]
        }
      ],
      "source": [
        "# Exibe o valor da variável numero_inteiro_1\n",
        "print('numero_inteiro_1 =', numero_inteiro_1)\n",
        "\n",
        "# Exibe o valor da variável numero_inteiro_2\n",
        "print('numero_inteiro_2 =', numero_inteiro_2)"
      ]
    },
    {
      "cell_type": "code",
      "execution_count": 3,
      "metadata": {
        "colab": {
          "base_uri": "https://localhost:8080/"
        },
        "id": "3SnBIPVsE_sd",
        "outputId": "a6b8fa43-b2fc-4def-8c8f-0b343d1bd2e2"
      },
      "outputs": [
        {
          "output_type": "execute_result",
          "data": {
            "text/plain": [
              "int"
            ]
          },
          "metadata": {},
          "execution_count": 3
        }
      ],
      "source": [
        "# Exibe o tipo da variável numero_inteiro_1\n",
        "type(numero_inteiro_1)"
      ]
    },
    {
      "cell_type": "markdown",
      "metadata": {
        "id": "P6CK687fE_sd"
      },
      "source": [
        "### 1.2 - Números Decimais"
      ]
    },
    {
      "cell_type": "code",
      "execution_count": 4,
      "metadata": {
        "colab": {
          "base_uri": "https://localhost:8080/"
        },
        "id": "_a2tXmxME_sd",
        "outputId": "0159215f-fe00-41ac-ecda-72651247f0d7"
      },
      "outputs": [
        {
          "output_type": "execute_result",
          "data": {
            "text/plain": [
              "float"
            ]
          },
          "metadata": {},
          "execution_count": 4
        }
      ],
      "source": [
        "# Criação da variável numérica numero_inteiro_1\n",
        "numero_decimal_1 = 5.5\n",
        "\n",
        "# Exibe o tipo da variável numero_decimal_1\n",
        "type(numero_decimal_1)"
      ]
    },
    {
      "cell_type": "code",
      "execution_count": 5,
      "metadata": {
        "colab": {
          "base_uri": "https://localhost:8080/"
        },
        "id": "kKYCEwGoE_sd",
        "outputId": "ed80a798-26ec-4b01-8b2d-f7d0dbb5bc5c"
      },
      "outputs": [
        {
          "output_type": "execute_result",
          "data": {
            "text/plain": [
              "float"
            ]
          },
          "metadata": {},
          "execution_count": 5
        }
      ],
      "source": [
        "# Criação da variável numérica numero_inteiro_2\n",
        "numero_decimal_2 = 8.4\n",
        "\n",
        "# Exibe o tipo da variável numero_decimal_2\n",
        "type(numero_decimal_2)"
      ]
    },
    {
      "cell_type": "code",
      "execution_count": 6,
      "metadata": {
        "colab": {
          "base_uri": "https://localhost:8080/"
        },
        "id": "Vw2oV0y6E_sd",
        "outputId": "01d22bbe-7a63-4a53-ee27-5520200e9126"
      },
      "outputs": [
        {
          "output_type": "stream",
          "name": "stdout",
          "text": [
            "numero_decimal_1 = 5.5\n",
            "numero_decimal_2 = 8.4\n"
          ]
        }
      ],
      "source": [
        "# Exibe o valor da variável numero_decimal_1\n",
        "print('numero_decimal_1 =', numero_decimal_1)\n",
        "\n",
        "# Exibe o valor da variável numero_decimal_2\n",
        "print('numero_decimal_2 =', numero_decimal_2)"
      ]
    },
    {
      "cell_type": "markdown",
      "metadata": {
        "id": "rBIz1SS5E_sd"
      },
      "source": [
        "### 1.3 - STR - Caracteres\n",
        "\n",
        "Qualquer caracter que esteja entre aspas simples ' ' ou duplas \" \"\n",
        "\n",
        "Ex: 'a', 'ç', '123', 'carro'\n",
        "\n",
        "No python, o tipo de dados caracter é referenciado por ``str``, abreviação de string, que significa uma sequência de caracteres alfanuméricos (letras, números e/ou símbolos)."
      ]
    },
    {
      "cell_type": "code",
      "execution_count": 7,
      "metadata": {
        "id": "Ks9Kuc8-E_se"
      },
      "outputs": [],
      "source": [
        "# Criação da variável textual string_1\n",
        "string_1 = 'Isto é um texto'\n",
        "\n",
        "# Criação da variável textual string_2\n",
        "string_2 = 'Carro'\n",
        "\n",
        "# Criação da variável textual string_3\n",
        "string_3 = 'a'"
      ]
    },
    {
      "cell_type": "code",
      "execution_count": 8,
      "metadata": {
        "colab": {
          "base_uri": "https://localhost:8080/"
        },
        "id": "bkQjKOa5E_se",
        "outputId": "1e35d1f5-4654-4e20-c797-fea6baca82e4"
      },
      "outputs": [
        {
          "output_type": "stream",
          "name": "stdout",
          "text": [
            "Isto é um texto\n",
            "Carro\n",
            "a\n"
          ]
        }
      ],
      "source": [
        "print(string_1)\n",
        "print(string_2)\n",
        "print(string_3)"
      ]
    },
    {
      "cell_type": "code",
      "execution_count": 9,
      "metadata": {
        "colab": {
          "base_uri": "https://localhost:8080/"
        },
        "id": "8-ZxlrPZE_se",
        "outputId": "af58b5a9-2b91-49e1-a278-4d3bf6202c50"
      },
      "outputs": [
        {
          "output_type": "execute_result",
          "data": {
            "text/plain": [
              "str"
            ]
          },
          "metadata": {},
          "execution_count": 9
        }
      ],
      "source": [
        "type(string_2)"
      ]
    },
    {
      "cell_type": "markdown",
      "metadata": {
        "id": "fZy8lB81E_se"
      },
      "source": [
        "#### 1.3.1 Função print()\n",
        "Ao utilizar a função print, podemos exibir o valor da variável e acrescentar outros textos"
      ]
    },
    {
      "cell_type": "markdown",
      "metadata": {
        "id": "Lnvp7j8BE_se"
      },
      "source": [
        "##### 1.3.1.1 - Acrescentar o texto dentro de aspas, colocar uma vírgula fora das aspas e em seguida o nome da variável"
      ]
    },
    {
      "cell_type": "code",
      "execution_count": 10,
      "metadata": {
        "colab": {
          "base_uri": "https://localhost:8080/"
        },
        "id": "svPu6-UDE_se",
        "outputId": "3603eb00-a871-49db-aa3a-0f6f01eb2c3c"
      },
      "outputs": [
        {
          "output_type": "stream",
          "name": "stdout",
          "text": [
            "O valor da string_2 é Carro e da string_3 a\n"
          ]
        }
      ],
      "source": [
        "print('O valor da string_2 é',string_2,'e da string_3',string_3)"
      ]
    },
    {
      "cell_type": "markdown",
      "metadata": {
        "id": "bK3HKTSjE_sf"
      },
      "source": [
        "#### 1.3.1.2 - Usar a ``função f string``, onde é acrescentada a letra `f` antes do texto e o nome da variável em qualquer lugar dentro das aspas, dentro de chaves"
      ]
    },
    {
      "cell_type": "code",
      "execution_count": 11,
      "metadata": {
        "colab": {
          "base_uri": "https://localhost:8080/"
        },
        "id": "AhOCWEnaE_sf",
        "outputId": "00fa2edd-7d7e-430c-a20d-5a8fc380ebfc"
      },
      "outputs": [
        {
          "output_type": "stream",
          "name": "stdout",
          "text": [
            "O valor da string_2 é: Carro e da string_3: a\n"
          ]
        }
      ],
      "source": [
        "print(f'O valor da string_2 é: {string_2} e da string_3: {string_3}')"
      ]
    },
    {
      "cell_type": "markdown",
      "metadata": {
        "id": "0xoDKQrlE_sf"
      },
      "source": [
        "#### 1.3.1.3 - Usar a ``.format``, onde se acrescenta um par de chaves no lugar onde desejar que a variável apareça e, após as aspas, usar a função .format(nome_da_variavel, nome_da_outra_variavel). A primeira variável irá aparecer no lugar do primeiro par de chaves, a segunda variável no lugar do segundo par de chaves..."
      ]
    },
    {
      "cell_type": "code",
      "execution_count": 12,
      "metadata": {
        "colab": {
          "base_uri": "https://localhost:8080/"
        },
        "id": "7970LX-5E_sf",
        "outputId": "8939472f-eca3-403d-b556-3ec29a9064c4"
      },
      "outputs": [
        {
          "output_type": "stream",
          "name": "stdout",
          "text": [
            "O valor da string_2 é: Carro e da string_3: Isto é um texto\n"
          ]
        }
      ],
      "source": [
        "print('O valor da string_2 é: {} e da string_3: {}'.format(string_2, string_1))"
      ]
    },
    {
      "cell_type": "markdown",
      "metadata": {
        "id": "CIQ010YzE_sf"
      },
      "source": [
        "### 1.3.2 - Tamanho da String\n",
        "Uma variável do tipo string é composta por uma sequencia de caracteres alfa numéricos, isto quer dizer ela possui uma quantidade determinada de posições e que cada caracter possui uma posição."
      ]
    },
    {
      "cell_type": "code",
      "execution_count": 13,
      "metadata": {
        "colab": {
          "base_uri": "https://localhost:8080/"
        },
        "id": "Bj23NAaOE_sf",
        "outputId": "382c3bca-4090-442c-a3d5-f85563a7bca2"
      },
      "outputs": [
        {
          "output_type": "execute_result",
          "data": {
            "text/plain": [
              "6"
            ]
          },
          "metadata": {},
          "execution_count": 13
        }
      ],
      "source": [
        "# len() é a função para retornar o tamanho da string\n",
        "len('casa .')"
      ]
    },
    {
      "cell_type": "code",
      "execution_count": 14,
      "metadata": {
        "colab": {
          "base_uri": "https://localhost:8080/"
        },
        "id": "4kluor2gE_sf",
        "outputId": "80c7826d-204b-464d-bfb1-949f56eebd8d"
      },
      "outputs": [
        {
          "output_type": "stream",
          "name": "stdout",
          "text": [
            "Carro\n"
          ]
        }
      ],
      "source": [
        "# Exibe o valor da string_2\n",
        "print(string_2)"
      ]
    },
    {
      "cell_type": "code",
      "execution_count": 15,
      "metadata": {
        "colab": {
          "base_uri": "https://localhost:8080/"
        },
        "id": "xyJfwH7DE_sg",
        "outputId": "cf462a44-a41f-430c-fab7-597dd4f5d9c3"
      },
      "outputs": [
        {
          "output_type": "execute_result",
          "data": {
            "text/plain": [
              "5"
            ]
          },
          "metadata": {},
          "execution_count": 15
        }
      ],
      "source": [
        "# Exibe o tamanho da string_2\n",
        "len(string_2)"
      ]
    },
    {
      "cell_type": "code",
      "execution_count": 16,
      "metadata": {
        "colab": {
          "base_uri": "https://localhost:8080/"
        },
        "id": "BtB97z_gE_sg",
        "outputId": "b93989ce-62c7-416f-e619-c49f6fc94804"
      },
      "outputs": [
        {
          "output_type": "stream",
          "name": "stdout",
          "text": [
            "C\n",
            "a\n",
            "r\n",
            "r\n",
            "o\n"
          ]
        }
      ],
      "source": [
        "# Exibe todas as posições da string_2\n",
        "# Note que a contagem começa em 0\n",
        "print(string_2 [0])\n",
        "print(string_2 [1])\n",
        "print(string_2 [2])\n",
        "print(string_2 [3])\n",
        "print(string_2 [4])"
      ]
    },
    {
      "cell_type": "markdown",
      "metadata": {
        "id": "43wiBv9HE_sg"
      },
      "source": [
        "## 1.4 Tipo de dados Lógico\n",
        "O tipo de Dados lógico é usado para representar dois únicos\n",
        "valores lógicos possíveis: verdadeiro ou falso. É comum\n",
        "encontrar-se em outras referencias outros tipos de pares de\n",
        "valores lógicos com sim/não , 1/0, true/false.\n",
        "\n",
        "No python o tipo de dados lógico é representado por ``bool``, de booleano, sendo os dois possíveis valores `True` (Verdadeiro) e `False` (Falso)."
      ]
    },
    {
      "cell_type": "code",
      "execution_count": 17,
      "metadata": {
        "colab": {
          "base_uri": "https://localhost:8080/"
        },
        "id": "YxGWv2IeE_sg",
        "outputId": "54994039-728d-4556-f2de-37449450d6f2"
      },
      "outputs": [
        {
          "output_type": "execute_result",
          "data": {
            "text/plain": [
              "bool"
            ]
          },
          "metadata": {},
          "execution_count": 17
        }
      ],
      "source": [
        "type(True)"
      ]
    },
    {
      "cell_type": "code",
      "execution_count": 18,
      "metadata": {
        "colab": {
          "base_uri": "https://localhost:8080/"
        },
        "id": "E-7huzvsE_sg",
        "outputId": "3be7efd5-f276-449b-e3e4-16409a461f59"
      },
      "outputs": [
        {
          "output_type": "execute_result",
          "data": {
            "text/plain": [
              "bool"
            ]
          },
          "metadata": {},
          "execution_count": 18
        }
      ],
      "source": [
        "type(False)"
      ]
    },
    {
      "cell_type": "markdown",
      "metadata": {
        "id": "WqD7VtaVE_sg"
      },
      "source": [
        "# 2 - Operações com Variáveis Numéricas\n",
        "\n",
        "Podem ser feita entre números, variáveis numéricas e variáveis numéricas e números"
      ]
    },
    {
      "cell_type": "markdown",
      "metadata": {
        "id": "rSWxJScpE_sh"
      },
      "source": [
        "#### 2.1 - Adição\n",
        "Sinal de mais `+`"
      ]
    },
    {
      "cell_type": "code",
      "execution_count": 19,
      "metadata": {
        "id": "GeBbfDDWE_sh"
      },
      "outputs": [],
      "source": [
        "numero_1 = 11\n",
        "numero_2 = 5.5"
      ]
    },
    {
      "cell_type": "code",
      "execution_count": 20,
      "metadata": {
        "colab": {
          "base_uri": "https://localhost:8080/"
        },
        "id": "dh1Lus6wE_sh",
        "outputId": "42048b67-4383-4139-da26-38cbf223c8a7"
      },
      "outputs": [
        {
          "output_type": "execute_result",
          "data": {
            "text/plain": [
              "16.5"
            ]
          },
          "metadata": {},
          "execution_count": 20
        }
      ],
      "source": [
        "numero_1 + numero_2"
      ]
    },
    {
      "cell_type": "markdown",
      "metadata": {
        "id": "v0S1_vg8E_sh"
      },
      "source": [
        "#### 2.2 - Subtração\n",
        "Sinal de menos `-`"
      ]
    },
    {
      "cell_type": "code",
      "execution_count": 21,
      "metadata": {
        "id": "-sDTHpTqE_sh"
      },
      "outputs": [],
      "source": [
        "numero_1 = 11\n",
        "numero_2 = 5.5"
      ]
    },
    {
      "cell_type": "code",
      "execution_count": 22,
      "metadata": {
        "colab": {
          "base_uri": "https://localhost:8080/"
        },
        "id": "qt8Moo_mE_si",
        "outputId": "39e18fd8-0ddb-4342-fccd-31c926cb5021"
      },
      "outputs": [
        {
          "output_type": "execute_result",
          "data": {
            "text/plain": [
              "5.5"
            ]
          },
          "metadata": {},
          "execution_count": 22
        }
      ],
      "source": [
        "numero_1 - numero_2"
      ]
    },
    {
      "cell_type": "markdown",
      "metadata": {
        "id": "WJ72EVVXE_si"
      },
      "source": [
        "#### 2.3 - Multiplicação\n",
        "Sinal de asterisco `*`"
      ]
    },
    {
      "cell_type": "code",
      "execution_count": 23,
      "metadata": {
        "id": "yMq_IA5FE_si"
      },
      "outputs": [],
      "source": [
        "numero_1 = 2\n",
        "numero_2 = 5.5"
      ]
    },
    {
      "cell_type": "code",
      "execution_count": 24,
      "metadata": {
        "colab": {
          "base_uri": "https://localhost:8080/"
        },
        "id": "UZD9ECycE_si",
        "outputId": "ed364689-d7fa-411a-8d84-608e154f8eb1"
      },
      "outputs": [
        {
          "output_type": "execute_result",
          "data": {
            "text/plain": [
              "11.0"
            ]
          },
          "metadata": {},
          "execution_count": 24
        }
      ],
      "source": [
        "numero_1 * numero_2"
      ]
    },
    {
      "cell_type": "markdown",
      "metadata": {
        "id": "9InAbnMqE_si"
      },
      "source": [
        "#### 2.4 - Divisão\n",
        "Sinal de barra `/`"
      ]
    },
    {
      "cell_type": "code",
      "execution_count": 25,
      "metadata": {
        "id": "_jLPsAyRE_sj"
      },
      "outputs": [],
      "source": [
        "numero_1 = 11\n",
        "numero_2 = 5.5"
      ]
    },
    {
      "cell_type": "code",
      "execution_count": 26,
      "metadata": {
        "colab": {
          "base_uri": "https://localhost:8080/"
        },
        "id": "EBI6aqi6E_sj",
        "outputId": "f3f1c02b-cb2f-457d-dcdf-4cb005f6f8ac"
      },
      "outputs": [
        {
          "output_type": "execute_result",
          "data": {
            "text/plain": [
              "2.0"
            ]
          },
          "metadata": {},
          "execution_count": 26
        }
      ],
      "source": [
        "numero_1 / numero_2"
      ]
    },
    {
      "cell_type": "markdown",
      "metadata": {
        "id": "VhGmtaQdE_sj"
      },
      "source": [
        "#### 2.5 - MOD (Resto da Divisão)\n",
        "Sinal de porcentagem  %\n",
        "#\n",
        "OBS: Para verificar se uma variável é par, verifique se o resto da divisão por 2 é 0  "
      ]
    },
    {
      "cell_type": "code",
      "execution_count": 27,
      "metadata": {
        "id": "qAqsoPeRE_sj"
      },
      "outputs": [],
      "source": [
        "numero_1 = 11\n",
        "numero_2 = 2"
      ]
    },
    {
      "cell_type": "code",
      "execution_count": 28,
      "metadata": {
        "colab": {
          "base_uri": "https://localhost:8080/"
        },
        "id": "3y9YR32eE_sj",
        "outputId": "464edcde-761a-4f17-a6a3-e15332901cf5"
      },
      "outputs": [
        {
          "output_type": "execute_result",
          "data": {
            "text/plain": [
              "1"
            ]
          },
          "metadata": {},
          "execution_count": 28
        }
      ],
      "source": [
        "numero_1 % numero_2"
      ]
    },
    {
      "cell_type": "markdown",
      "metadata": {
        "id": "Ru7m8FH4E_sk"
      },
      "source": [
        "#### 2.6 - Exponenciação\n",
        "\n",
        "Sinal são dois asteriscos `**`"
      ]
    },
    {
      "cell_type": "code",
      "execution_count": 29,
      "metadata": {
        "id": "JSAM_-C3E_sk"
      },
      "outputs": [],
      "source": [
        "numero_1 = 10\n",
        "numero_2 = 2"
      ]
    },
    {
      "cell_type": "code",
      "execution_count": 30,
      "metadata": {
        "colab": {
          "base_uri": "https://localhost:8080/"
        },
        "id": "JVr6WsolE_sk",
        "outputId": "2e13a8fb-5cae-4923-8221-b9d073f3107c"
      },
      "outputs": [
        {
          "output_type": "execute_result",
          "data": {
            "text/plain": [
              "100"
            ]
          },
          "metadata": {},
          "execution_count": 30
        }
      ],
      "source": [
        "numero_1 ** numero_2"
      ]
    },
    {
      "cell_type": "markdown",
      "metadata": {
        "id": "rG7Lw2U1E_sk"
      },
      "source": [
        "# 3 - Operadores Relacionais\n",
        "\n",
        "Também conhecidos como operadores de comparação, comparam duas variáveis. No python temos:\n",
        "* Compara se duas variáveis são iguais `==`\n",
        "* Compara se duas variáveis são diferentes `!=`\n",
        "* Compara se uma variável é maior que outra `>`\n",
        "* Compara se uma variável é maior ou igual que outra `>=`\n",
        "* Compara se uma variável é menor que outra `<`\n",
        "* Compara se uma variável é menor ou igual que outra `<=`\n",
        "\n",
        "A resposta da comparação é em booleano, sendo True se a comparação for verdadeira, ou False se for falsa."
      ]
    },
    {
      "cell_type": "code",
      "execution_count": 31,
      "metadata": {
        "colab": {
          "base_uri": "https://localhost:8080/"
        },
        "id": "O2XA5oKEE_sk",
        "outputId": "2a4a0d27-4783-48b0-bff3-41eae4242ca4"
      },
      "outputs": [
        {
          "output_type": "execute_result",
          "data": {
            "text/plain": [
              "False"
            ]
          },
          "metadata": {},
          "execution_count": 31
        }
      ],
      "source": [
        "# Compara se 1 é igual a 2\n",
        "1 == 2"
      ]
    },
    {
      "cell_type": "code",
      "execution_count": 32,
      "metadata": {
        "colab": {
          "base_uri": "https://localhost:8080/"
        },
        "id": "onF02mIoE_sk",
        "outputId": "fcc3a9cf-b435-4d43-e6e8-2636342fa5b3"
      },
      "outputs": [
        {
          "output_type": "execute_result",
          "data": {
            "text/plain": [
              "True"
            ]
          },
          "metadata": {},
          "execution_count": 32
        }
      ],
      "source": [
        "# Compara se 1 é igual a 1\n",
        "1 == 1"
      ]
    },
    {
      "cell_type": "code",
      "execution_count": 33,
      "metadata": {
        "colab": {
          "base_uri": "https://localhost:8080/"
        },
        "id": "sqn72VaCE_sl",
        "outputId": "1602f2d9-8668-43d3-da01-2a59878b9031"
      },
      "outputs": [
        {
          "output_type": "execute_result",
          "data": {
            "text/plain": [
              "True"
            ]
          },
          "metadata": {},
          "execution_count": 33
        }
      ],
      "source": [
        "# Verifica se o número é par ( Verifica se o resto da divisão por 2 é zero)\n",
        "10 % 2 == 0"
      ]
    },
    {
      "cell_type": "code",
      "execution_count": 34,
      "metadata": {
        "colab": {
          "base_uri": "https://localhost:8080/"
        },
        "id": "DY-Dfl2_E_sl",
        "outputId": "d423aa65-85bc-4cb6-cd28-caebb52acf0c"
      },
      "outputs": [
        {
          "output_type": "execute_result",
          "data": {
            "text/plain": [
              "1"
            ]
          },
          "metadata": {},
          "execution_count": 34
        }
      ],
      "source": [
        "11 % 2"
      ]
    },
    {
      "cell_type": "code",
      "execution_count": 35,
      "metadata": {
        "colab": {
          "base_uri": "https://localhost:8080/"
        },
        "id": "pRA-eemME_sl",
        "outputId": "316921b6-18d6-4a68-e717-c1d9dbb7c91c"
      },
      "outputs": [
        {
          "output_type": "execute_result",
          "data": {
            "text/plain": [
              "False"
            ]
          },
          "metadata": {},
          "execution_count": 35
        }
      ],
      "source": [
        "# Verifica se o número é par ( Verifica se o resto da divisão por 2 é zero)\n",
        "11 % 2 == 0"
      ]
    },
    {
      "cell_type": "code",
      "execution_count": 36,
      "metadata": {
        "colab": {
          "base_uri": "https://localhost:8080/"
        },
        "id": "96lBc-7IE_sl",
        "outputId": "c355b747-fc44-4a55-b9a1-76eeec007eeb"
      },
      "outputs": [
        {
          "output_type": "execute_result",
          "data": {
            "text/plain": [
              "False"
            ]
          },
          "metadata": {},
          "execution_count": 36
        }
      ],
      "source": [
        "# Verifica se o número é ímpar ( Verifica se o resto da divisão por 2 é diferente de zero)\n",
        "10 % 2 != 0"
      ]
    },
    {
      "cell_type": "code",
      "execution_count": 37,
      "metadata": {
        "colab": {
          "base_uri": "https://localhost:8080/"
        },
        "id": "BLAlseU6E_sl",
        "outputId": "3b7128d3-aa2b-4899-ff63-7addcabddac1"
      },
      "outputs": [
        {
          "output_type": "execute_result",
          "data": {
            "text/plain": [
              "True"
            ]
          },
          "metadata": {},
          "execution_count": 37
        }
      ],
      "source": [
        "# Verifica se o número é ímpar ( Verifica se o resto da divisão por 2 é diferente de zero)\n",
        "11 % 2 != 0"
      ]
    },
    {
      "cell_type": "code",
      "execution_count": 38,
      "metadata": {
        "colab": {
          "base_uri": "https://localhost:8080/"
        },
        "id": "mlMFI2_dE_sl",
        "outputId": "10802955-644c-4841-edf8-39d62a0950a0"
      },
      "outputs": [
        {
          "output_type": "execute_result",
          "data": {
            "text/plain": [
              "False"
            ]
          },
          "metadata": {},
          "execution_count": 38
        }
      ],
      "source": [
        "# Compara se 1 é maior que 2\n",
        "1 > 2"
      ]
    },
    {
      "cell_type": "code",
      "execution_count": 39,
      "metadata": {
        "colab": {
          "base_uri": "https://localhost:8080/"
        },
        "id": "XnmTzT1FE_sm",
        "outputId": "deab9d91-6781-49dc-e12f-c5d49a8fef3a"
      },
      "outputs": [
        {
          "output_type": "execute_result",
          "data": {
            "text/plain": [
              "True"
            ]
          },
          "metadata": {},
          "execution_count": 39
        }
      ],
      "source": [
        "# Compara se 2 é maior ou igual que 2\n",
        "2 >= 2"
      ]
    },
    {
      "cell_type": "markdown",
      "metadata": {
        "id": "HmmZ6WasE_sm"
      },
      "source": [
        "# 4 - Estruturas Condicionais - If, Else, Elif\n",
        "\n",
        "<code>if</code> permite dizer ao computador para executar ações alternativas com base em um determinado conjunto de resultados.\n",
        "\n",
        "Verbalmente, podemos imaginar que estamos dizendo ao computador:\n",
        "\n",
        "\"Se esse caso acontecer, execute alguma ação\"\n",
        "\n",
        "Podemos então expandir ainda mais a ideia com as instruções <code>elif</code> e <code>else</code>, que nos permitem informar ao computador:\n",
        "\n",
        "\"Se esse caso acontecer, execute alguma ação. Senão, se outro caso acontecer, execute outra ação. Caso contrário, se **nenhum** dos casos acima ocorreu, execute esta ação.\"\n",
        "\n",
        "Observe o formato de sintaxe das instruções <code>if</code> para ter uma idéia melhor disso:\n",
        "\n",
        "    if caso1:\n",
        "        faça ação1\n",
        "    elif case2:\n",
        "        faça ação2\n",
        "    elif case3:\n",
        "        faça ação3\n",
        "    elif case4:\n",
        "        faça ação4\n",
        "    else:\n",
        "        faça ação5\n",
        "\n",
        "Podemos colocar vários elif um após o outro, mas somente um if e um else"
      ]
    },
    {
      "cell_type": "code",
      "execution_count": 40,
      "metadata": {
        "id": "IY3DxZg-E_sm"
      },
      "outputs": [],
      "source": [
        "# Cria a variável número\n",
        "numero = 5"
      ]
    },
    {
      "cell_type": "code",
      "execution_count": 41,
      "metadata": {
        "colab": {
          "base_uri": "https://localhost:8080/"
        },
        "id": "lbpK85pKE_sm",
        "outputId": "325a5bcb-fc5c-4a24-a6ef-55f457418964"
      },
      "outputs": [
        {
          "output_type": "execute_result",
          "data": {
            "text/plain": [
              "True"
            ]
          },
          "metadata": {},
          "execution_count": 41
        }
      ],
      "source": [
        "# Operador de comparação que verifica se a variável numero é igual a 5\n",
        "numero == 5"
      ]
    },
    {
      "cell_type": "code",
      "execution_count": 42,
      "metadata": {
        "colab": {
          "base_uri": "https://localhost:8080/"
        },
        "id": "D1OxLk83E_sm",
        "outputId": "63b40d40-73b9-40b3-bfa5-06d76e36ce22"
      },
      "outputs": [
        {
          "output_type": "execute_result",
          "data": {
            "text/plain": [
              "False"
            ]
          },
          "metadata": {},
          "execution_count": 42
        }
      ],
      "source": [
        "# Operador de comparação que verifica se a variável numero é igual a 6\n",
        "numero == 6"
      ]
    },
    {
      "cell_type": "code",
      "execution_count": 43,
      "metadata": {
        "colab": {
          "base_uri": "https://localhost:8080/"
        },
        "id": "1G3yT2KBE_sn",
        "outputId": "17dbcc00-3a91-436b-c221-eee6277fad80"
      },
      "outputs": [
        {
          "output_type": "stream",
          "name": "stdout",
          "text": [
            "O número é igual a 5\n"
          ]
        }
      ],
      "source": [
        "# Verifica se número é igual a 5 e executa o print caso seja igual\n",
        "if numero == 5:\n",
        "    print('O número é igual a 5')"
      ]
    },
    {
      "cell_type": "code",
      "execution_count": 44,
      "metadata": {
        "id": "MFAJyDqUE_sn"
      },
      "outputs": [],
      "source": [
        "# Verifica se número é igual a 6 e executa o print caso seja igual\n",
        "if numero == 6:\n",
        "    print('O número é igual a 5')"
      ]
    },
    {
      "cell_type": "code",
      "execution_count": 45,
      "metadata": {
        "colab": {
          "base_uri": "https://localhost:8080/"
        },
        "id": "j0cNv9__E_sn",
        "outputId": "8db61389-c58d-4c34-e395-8879e76a6da0"
      },
      "outputs": [
        {
          "output_type": "stream",
          "name": "stdout",
          "text": [
            "O número é diferente de 6\n"
          ]
        }
      ],
      "source": [
        "# Verifica se número é diferente de 6 e executa o print caso seja diferente\n",
        "if numero != 6:\n",
        "    print('O número é diferente de 6')"
      ]
    },
    {
      "cell_type": "code",
      "execution_count": 46,
      "metadata": {
        "colab": {
          "base_uri": "https://localhost:8080/"
        },
        "id": "anDGG8_8E_sn",
        "outputId": "847278c4-0e81-4eb0-ed99-668403243d78"
      },
      "outputs": [
        {
          "output_type": "stream",
          "name": "stdout",
          "text": [
            "O número é igual a 5\n"
          ]
        }
      ],
      "source": [
        "if numero == 6:\n",
        "    print('O número é igual a 6')\n",
        "elif numero == 5:\n",
        "    print('O número é igual a 5')"
      ]
    },
    {
      "cell_type": "code",
      "execution_count": 47,
      "metadata": {
        "id": "XXXwLGUbE_sn"
      },
      "outputs": [],
      "source": [
        "if numero == 6:\n",
        "    print('O número é igual a 6')\n",
        "elif numero != 5:\n",
        "    print('O número é diferente de 5')"
      ]
    },
    {
      "cell_type": "code",
      "execution_count": 48,
      "metadata": {
        "colab": {
          "base_uri": "https://localhost:8080/"
        },
        "id": "mEPcW4MUE_so",
        "outputId": "9364e27b-044e-4289-cfdb-f522c342b865"
      },
      "outputs": [
        {
          "output_type": "stream",
          "name": "stdout",
          "text": [
            "O número é 5\n"
          ]
        }
      ],
      "source": [
        "if numero == 6:\n",
        "    print('O número é igual a 6')\n",
        "elif numero != 5:\n",
        "    print('O número é diferente de 5')\n",
        "else:\n",
        "    print('O número é 5')"
      ]
    },
    {
      "cell_type": "code",
      "execution_count": 49,
      "metadata": {
        "colab": {
          "base_uri": "https://localhost:8080/"
        },
        "id": "NK1Yu3r6E_so",
        "outputId": "3ee00456-8fe0-4c99-cfae-a4e8d5d82344"
      },
      "outputs": [
        {
          "output_type": "stream",
          "name": "stdout",
          "text": [
            "Lamento muito! você está ganhando bem então vai pagar apenas 27.5%\n"
          ]
        }
      ],
      "source": [
        "# Imprimir um percetual de imposto\n",
        "# Quando o salario for menor que R$500 o programa irá imprimir o percentual 5%\n",
        "# Quando o salario for De R$500 a R$850 o programa irá imprimir o percentual 10%\n",
        "# Quando o salario for acima de R$850 o programa irá imprimir o percentual 27.5%\n",
        "\n",
        "salario = 19000\n",
        "\n",
        "if salario < 500:\n",
        "    print('Leão vai tirar apenas 5% da sua conta')\n",
        "elif salario>=500 and salario <=850:\n",
        "    print('Leão vai tirar apenas 10% da sua conta e por favor fique tranquilo')\n",
        "else:\n",
        "    print('Lamento muito! você está ganhando bem então vai pagar apenas 27.5%')"
      ]
    },
    {
      "cell_type": "markdown",
      "metadata": {
        "id": "my09tLeFE_so"
      },
      "source": [
        "## Conectar duas ou mais comparações\n",
        "\n",
        "* Com o `and` (`e` em português), é possível conectar duas ou mais comparações, e o resultado depende de:\n",
        "    * Todas as comparações precisam ser verdadeiras para que o resultado seja verdadeiro (True)\n",
        "    * Caso uma das comparações seja falsa (False), o resultado será falso\n",
        "\n",
        "* Com o `or` (`ou` em português), é possível conectar duas ou mais comparações, e o resultado depende de:\n",
        "    * Todas as comparações presicam ser falsas para o resultado ser falso (False)\n",
        "    * Caso uma única comparação seja verdadeira, o resultado será verdadeiro (True), independente se existirem outras comparações falsas (False)"
      ]
    },
    {
      "cell_type": "code",
      "execution_count": 50,
      "metadata": {
        "colab": {
          "base_uri": "https://localhost:8080/"
        },
        "id": "4KNhuusJE_so",
        "outputId": "b48549c3-245e-4ef0-d659-0099e825fb14"
      },
      "outputs": [
        {
          "output_type": "execute_result",
          "data": {
            "text/plain": [
              "True"
            ]
          },
          "metadata": {},
          "execution_count": 50
        }
      ],
      "source": [
        "salario>=500"
      ]
    },
    {
      "cell_type": "code",
      "execution_count": 51,
      "metadata": {
        "colab": {
          "base_uri": "https://localhost:8080/"
        },
        "id": "-CouCSVQE_so",
        "outputId": "6ac4ff35-9060-4609-c277-3e0d9c27ea67"
      },
      "outputs": [
        {
          "output_type": "execute_result",
          "data": {
            "text/plain": [
              "False"
            ]
          },
          "metadata": {},
          "execution_count": 51
        }
      ],
      "source": [
        "salario <=850"
      ]
    },
    {
      "cell_type": "code",
      "execution_count": 52,
      "metadata": {
        "colab": {
          "base_uri": "https://localhost:8080/"
        },
        "id": "AtC4fal_E_sp",
        "outputId": "1860b14a-7156-4b9b-a548-f99f51ce9268"
      },
      "outputs": [
        {
          "output_type": "execute_result",
          "data": {
            "text/plain": [
              "False"
            ]
          },
          "metadata": {},
          "execution_count": 52
        }
      ],
      "source": [
        "salario>=500 and salario <=850"
      ]
    },
    {
      "cell_type": "code",
      "execution_count": 53,
      "metadata": {
        "colab": {
          "base_uri": "https://localhost:8080/"
        },
        "id": "ljHhlZD-E_sp",
        "outputId": "1a3d96cd-202b-423b-fd39-194e07305a5f"
      },
      "outputs": [
        {
          "output_type": "execute_result",
          "data": {
            "text/plain": [
              "True"
            ]
          },
          "metadata": {},
          "execution_count": 53
        }
      ],
      "source": [
        "salario>=500 or salario <=850"
      ]
    },
    {
      "cell_type": "code",
      "execution_count": 54,
      "metadata": {
        "colab": {
          "base_uri": "https://localhost:8080/"
        },
        "id": "312bzm2WE_sp",
        "outputId": "8584aa8a-614b-4dc4-cc3f-6ff5b0f64c79"
      },
      "outputs": [
        {
          "output_type": "stream",
          "name": "stdout",
          "text": [
            "É um número negativo\n"
          ]
        }
      ],
      "source": [
        "# Exibir se o número é negativo, neutro ou positivo\n",
        "numero = -6\n",
        "\n",
        "if numero < 0:\n",
        "        print('É um número negativo')\n",
        "elif numero == 0:\n",
        "        print('É um número neutro')\n",
        "elif numero > 0:\n",
        "        print('É um número positivo')"
      ]
    },
    {
      "cell_type": "code",
      "execution_count": 55,
      "metadata": {
        "colab": {
          "base_uri": "https://localhost:8080/"
        },
        "id": "4dVdBpvXE_sp",
        "outputId": "c17f6004-c8f4-407d-d682-23a317d07a2f"
      },
      "outputs": [
        {
          "output_type": "stream",
          "name": "stdout",
          "text": [
            "Os números são iguais\n"
          ]
        }
      ],
      "source": [
        "# Exibir 2 números em ordem crescente\n",
        "\n",
        "numero_1 = 1\n",
        "numero_2 = 1\n",
        "\n",
        "# Verifica se o numero_1 é menor que o numero_2\n",
        "if numero_1 < numero_2:\n",
        "    print(numero_1, numero_2)\n",
        "\n",
        "# Verifica se o numero_2 é menor que o numero_1\n",
        "elif numero_2 < numero_1:\n",
        "    print(numero_2, numero_1)\n",
        "\n",
        "else:\n",
        "    print('Os números são iguais')"
      ]
    },
    {
      "cell_type": "code",
      "execution_count": 56,
      "metadata": {
        "colab": {
          "base_uri": "https://localhost:8080/"
        },
        "id": "75N00NJZE_sp",
        "outputId": "11e30c49-1fb3-4441-90ae-175f6a449b87"
      },
      "outputs": [
        {
          "output_type": "stream",
          "name": "stdout",
          "text": [
            "maior numero é o 18 e o menor é o 2\n"
          ]
        }
      ],
      "source": [
        "# Exibir o menor e o menor numero entre 3 números\n",
        "numero_1 = 2\n",
        "numero_2 = 5\n",
        "numero_3 = 18\n",
        "\n",
        "# Verifica se numero_1 é maior que o numero_2 e o numero_3 (Caso seja verdade, o numero_1 é o maior)\n",
        "if numero_1 > numero_2 and numero_1 > numero_3:\n",
        "\n",
        "    # Caso o numero_1 seja o maior, é feita a comparação para ver se o numero_2 é menor que o numero_3\n",
        "    if numero_2 < numero_3:\n",
        "        print(f'maior numero é o {numero_1} e o menor é o {numero_2}')\n",
        "\n",
        "    # Se o numero_2 não for o menor, significa que o menor é o numero_3\n",
        "    else:\n",
        "        print(f'maior numero é o {numero_1} e o menor é o {numero_3}')\n",
        "\n",
        "\n",
        "# Verifica se numero_2 é maior que o numero_1 e o numero_3 (Caso seja verdade, o numero_2 é o maior)\n",
        "elif numero_2 > numero_1 and numero_2 > numero_3:\n",
        "\n",
        "    # Caso o numero_2 seja o maior, é feita a comparação para ver se o numero_1 é menor que o numero_3\n",
        "    if numero_1 < numero_3:\n",
        "        print(f'maior numero é o {numero_2} e o menor é o {numero_1}')\n",
        "\n",
        "    # Se o numero_1 não for o menor, significa que o menor é o numero_3\n",
        "    else:\n",
        "        print(f'maior numero é o {numero_2} e o menor é o {numero_3}')\n",
        "\n",
        "\n",
        "# Caso o numero_1 nem o numero_2 sejam o maior numero, o que resta para ser o maior é o numero_3\n",
        "else:\n",
        "    # Caso o numero_3 seja o maior, é feita a comparação para ver se o numero_1 é menor que o numero_2\n",
        "    if numero_1 < numero_2:\n",
        "        print(f'maior numero é o {numero_3} e o menor é o {numero_1}')\n",
        "\n",
        "    # Se o numero_1 não for o menor, significa que o menor é o numero_2\n",
        "    else:\n",
        "        print(f'maior numero é o {numero_3} e o menor é o {numero_2}')"
      ]
    },
    {
      "cell_type": "markdown",
      "metadata": {
        "id": "8Y-R5I7wE_sp"
      },
      "source": [
        "# 5 - Estrutura de iteração - FOR\n",
        "\n",
        "Um loop <code>for</code> atua como um iterador no Python; ele percorre itens que estão em uma **sequência** ou qualquer outro item iterável. Os objetos que aprendemos sobre os quais podemos iterar incluem strings e listas.\n",
        "\n",
        "##### Aqui está o formato geral para um loop <code>for</code> no Python:\n",
        "    \n",
        "    for item in objeto:\n",
        "        instruções"
      ]
    },
    {
      "cell_type": "code",
      "execution_count": 57,
      "metadata": {
        "id": "-Mr7SDnrE_sq"
      },
      "outputs": [],
      "source": [
        "# Criar uma lista de números\n",
        "lista = [1,2,3,4,5,6]"
      ]
    },
    {
      "cell_type": "code",
      "execution_count": 58,
      "metadata": {
        "colab": {
          "base_uri": "https://localhost:8080/"
        },
        "id": "Tb2Oz4pzE_sq",
        "outputId": "5b7af941-a4b2-483d-aa28-a861b6c0e8ab"
      },
      "outputs": [
        {
          "output_type": "stream",
          "name": "stdout",
          "text": [
            "1\n",
            "2\n",
            "3\n",
            "4\n",
            "5\n",
            "6\n"
          ]
        }
      ],
      "source": [
        "# Cria-se uma variável num que irá percorrer os elementos da lista\n",
        "for num in lista:\n",
        "    # Exibe o valor da variável num\n",
        "    print(num)"
      ]
    },
    {
      "cell_type": "markdown",
      "metadata": {
        "id": "scU_Pc1ME_sq"
      },
      "source": [
        "Ótimo! Espero que isso faça sentido. Agora vamos adicionar uma instrução <code>if</code> para exibir somente números pares.\n",
        "#\n",
        "O resto da divisão `mod`, representado por `%` nos permite obter o restante em uma divisão."
      ]
    },
    {
      "cell_type": "code",
      "execution_count": 59,
      "metadata": {
        "colab": {
          "base_uri": "https://localhost:8080/"
        },
        "id": "S23FKzK7E_sq",
        "outputId": "3de12055-f7c9-4ce8-bfae-d8b78cd6cebe"
      },
      "outputs": [
        {
          "output_type": "stream",
          "name": "stdout",
          "text": [
            "2\n",
            "4\n",
            "6\n"
          ]
        }
      ],
      "source": [
        "# Cria-se uma variável num que irá percorrer os elementos da lista\n",
        "for num in lista:\n",
        "    # Verifica se o resto da divisão de num por 2 é igual a 0\n",
        "    if num % 2 == 0:\n",
        "        print(num)"
      ]
    },
    {
      "cell_type": "code",
      "execution_count": 60,
      "metadata": {
        "colab": {
          "base_uri": "https://localhost:8080/"
        },
        "id": "MnZ93Kk6E_sq",
        "outputId": "59b7fe36-57ad-46f0-df44-144ba5c0124a"
      },
      "outputs": [
        {
          "output_type": "stream",
          "name": "stdout",
          "text": [
            "1\n",
            "3\n",
            "5\n"
          ]
        }
      ],
      "source": [
        "#Para imprimir os ímpares\n",
        "for num in lista:\n",
        "    # Verifica se o resto da divisão de num por 2 é diferente de 0\n",
        "    if num % 2 != 0:\n",
        "        print(num)"
      ]
    },
    {
      "cell_type": "markdown",
      "metadata": {
        "id": "RQJr5vnXE_sr"
      },
      "source": [
        "Poderíamos também colocar uma declaração <code>else</code> lá:"
      ]
    },
    {
      "cell_type": "code",
      "execution_count": 61,
      "metadata": {
        "colab": {
          "base_uri": "https://localhost:8080/"
        },
        "id": "1NybgmXzE_sr",
        "outputId": "d5a88d89-43de-44ee-d95a-effad2ddd19d"
      },
      "outputs": [
        {
          "output_type": "stream",
          "name": "stdout",
          "text": [
            "Número ímpar\n",
            "2\n",
            "Número ímpar\n",
            "4\n",
            "Número ímpar\n",
            "6\n"
          ]
        }
      ],
      "source": [
        "for num in lista:\n",
        "    if num % 2 == 0:\n",
        "        print(num)\n",
        "    else:\n",
        "        print('Número ímpar')"
      ]
    },
    {
      "cell_type": "code",
      "execution_count": 62,
      "metadata": {
        "colab": {
          "base_uri": "https://localhost:8080/"
        },
        "id": "AOhqEblIE_sr",
        "outputId": "0885ab86-2af7-4b7d-d1c3-0683ab00c8ca"
      },
      "outputs": [
        {
          "output_type": "stream",
          "name": "stdout",
          "text": [
            "21\n"
          ]
        }
      ],
      "source": [
        "# Cria a variável soma que começa com zero\n",
        "soma = 0\n",
        "\n",
        "# Cria-se uma variável num que irá percorrer os elementos da lista\n",
        "for num in lista:\n",
        "    # A variável soma irá receber o valor dela + o num\n",
        "    soma += num\n",
        "\n",
        "print(soma)"
      ]
    },
    {
      "cell_type": "markdown",
      "metadata": {
        "id": "eJWMcrnOE_sr"
      },
      "source": [
        "## 5.1 - Loop For repetir uma quantidade específica de vezes\n",
        "\n",
        "O loop for pode percorrer uma determinada quantidade de valores com a função range()\n",
        "\n",
        "Dentro da função range podem ser passador 3 parâmetros sendo range(inicio, fim, passo),onde:\n",
        "* inicio é o primeiro valor a ser percorrido;\n",
        "* fim é o último valor a ser percorrido;\n",
        "* passo é a quantidade de valores que o loop anda em cada execução"
      ]
    },
    {
      "cell_type": "code",
      "execution_count": 63,
      "metadata": {
        "colab": {
          "base_uri": "https://localhost:8080/"
        },
        "id": "KDHtgzO0E_sr",
        "outputId": "790222e4-87ab-4c40-898a-3d1f08709f18"
      },
      "outputs": [
        {
          "output_type": "stream",
          "name": "stdout",
          "text": [
            "0\n",
            "1\n",
            "2\n",
            "3\n",
            "4\n"
          ]
        }
      ],
      "source": [
        "# O loop começará em 0, terminará em 9 e irá percorrer os valores de 1 em 1\n",
        "for numero in range(0,5,1):\n",
        "    print(numero)"
      ]
    },
    {
      "cell_type": "code",
      "execution_count": 64,
      "metadata": {
        "colab": {
          "base_uri": "https://localhost:8080/"
        },
        "id": "W7FdOxD4E_ss",
        "outputId": "75e68cec-f433-455f-afd3-b46f3bacef37"
      },
      "outputs": [
        {
          "output_type": "stream",
          "name": "stdout",
          "text": [
            "2\n",
            "4\n",
            "6\n",
            "8\n"
          ]
        }
      ],
      "source": [
        "# O loop começará em 2, terminará em 9 e irá percorrer os valores de 2 em 2\n",
        "for numero in range(2,10,2):\n",
        "    print(numero)"
      ]
    },
    {
      "cell_type": "code",
      "execution_count": 65,
      "metadata": {
        "colab": {
          "base_uri": "https://localhost:8080/"
        },
        "id": "eUeM6spuE_ss",
        "outputId": "e36093f8-0a59-4a84-e2c5-7135a340fc19"
      },
      "outputs": [
        {
          "output_type": "stream",
          "name": "stdout",
          "text": [
            "0\n",
            "3\n",
            "6\n",
            "9\n"
          ]
        }
      ],
      "source": [
        "# O loop começará em 0, terminará em 9 e irá percorrer os valores de 3 em 3\n",
        "for numero in range(0,10,3):\n",
        "    print(numero)"
      ]
    },
    {
      "cell_type": "markdown",
      "metadata": {
        "id": "GbqjIdigE_ss"
      },
      "source": [
        "Tanto o primeiro quanto o último parâmetro do range não precisam ser informados, por padrão eles são 0 e 1, respectivamente, Sendo necessário especificar somente qual o valor máximo."
      ]
    },
    {
      "cell_type": "code",
      "execution_count": 66,
      "metadata": {
        "colab": {
          "base_uri": "https://localhost:8080/"
        },
        "id": "HrZESdhLE_ss",
        "outputId": "d139d09a-54f4-4338-f682-53021d5fa124"
      },
      "outputs": [
        {
          "output_type": "stream",
          "name": "stdout",
          "text": [
            "0\n",
            "1\n",
            "2\n",
            "3\n",
            "4\n"
          ]
        }
      ],
      "source": [
        "# O loop começará em 0, terminará em 4 e irá percorrer os valores de 1 em 1\n",
        "for numero in range(0,5,1):\n",
        "    print(numero)"
      ]
    },
    {
      "cell_type": "code",
      "execution_count": 67,
      "metadata": {
        "colab": {
          "base_uri": "https://localhost:8080/"
        },
        "id": "tiveiX1hE_ss",
        "outputId": "36a42495-62e2-4a9a-e1f2-85b61b2adcae"
      },
      "outputs": [
        {
          "output_type": "stream",
          "name": "stdout",
          "text": [
            "0\n",
            "1\n",
            "2\n",
            "3\n",
            "4\n"
          ]
        }
      ],
      "source": [
        "# O loop começará em 0, terminará em 4 e irá percorrer os valores de 1 em 1\n",
        "for numero in range(5):\n",
        "    print(numero)"
      ]
    }
  ],
  "metadata": {
    "kernelspec": {
      "display_name": "Python 3.9.7 ('base')",
      "language": "python",
      "name": "python3"
    },
    "language_info": {
      "codemirror_mode": {
        "name": "ipython",
        "version": 3
      },
      "file_extension": ".py",
      "mimetype": "text/x-python",
      "name": "python",
      "nbconvert_exporter": "python",
      "pygments_lexer": "ipython3",
      "version": "3.9.7"
    },
    "orig_nbformat": 4,
    "vscode": {
      "interpreter": {
        "hash": "067f175f07fc265aa8d145419b6335739ee65af91da4abf8cfbfc48bca5c9b8b"
      }
    },
    "colab": {
      "provenance": []
    }
  },
  "nbformat": 4,
  "nbformat_minor": 0
}