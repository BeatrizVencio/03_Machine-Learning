{
  "cells": [
    {
      "cell_type": "markdown",
      "metadata": {
        "id": "4uX_Rbi3Ezu6"
      },
      "source": [
        "# Introdução aos Compressores de Lista\n",
        "\n",
        "## 1. Conceito de Compressores de Lista\n",
        "### Objetivos:\n",
        "- Explicar o que são compressores de lista (list comprehensions) em Python e por que são úteis.\n",
        "- Comparar compressores de lista com loops tradicionais para demonstrar sua eficiência e legibilidade.\n",
        "\n",
        "### Conteúdo:\n",
        "\n",
        "#### A. O que são Compressores de Lista\n",
        "- Compressores de lista são uma forma concisa de criar listas em Python.\n",
        "- Eles permitem gerar novas listas aplicando uma expressão a cada item em uma sequência ou iterável.\n",
        "\n",
        "#### B. Comparação com Loops Tradicionais\n",
        "- Compressores de lista são geralmente mais concisos e legíveis do que loops tradicionais.\n",
        "- Eles podem substituir loops for e certas funções de map/filter.\n",
        "\n",
        "### Exemplo de Código:"
      ]
    },
    {
      "cell_type": "code",
      "execution_count": 1,
      "metadata": {
        "id": "uILAA_ggEzu8",
        "outputId": "a5eddaf5-3af9-410c-fe53-abcab4789a2f",
        "colab": {
          "base_uri": "https://localhost:8080/"
        }
      },
      "outputs": [
        {
          "output_type": "stream",
          "name": "stdout",
          "text": [
            "[0, 1, 4, 9, 16, 25, 36, 49, 64, 81]\n"
          ]
        }
      ],
      "source": [
        "# Usando um loop for tradicional\n",
        "quadrados = []\n",
        "for i in range(10):\n",
        "    quadrados.append(i * i)\n",
        "\n",
        "print(quadrados)  # Saída: [0, 1, 4, 9, 16, 25, 36, 49, 64, 81]"
      ]
    },
    {
      "cell_type": "code",
      "execution_count": 2,
      "metadata": {
        "id": "aMlO7JChEzu9",
        "outputId": "875a4155-043f-472c-b8bf-7e0325c857b4",
        "colab": {
          "base_uri": "https://localhost:8080/"
        }
      },
      "outputs": [
        {
          "output_type": "stream",
          "name": "stdout",
          "text": [
            "[0, 1, 4, 9, 16, 25, 36, 49, 64, 81]\n"
          ]
        }
      ],
      "source": [
        "# Usando um compressor de lista\n",
        "quadrados_compreensao = [i * i for i in range(10)]\n",
        "\n",
        "print(quadrados_compreensao)  # Saída: [0, 1, 4, 9, 16, 25, 36, 49, 64, 81]"
      ]
    },
    {
      "cell_type": "markdown",
      "metadata": {
        "id": "CAFdU-oJEzu-"
      },
      "source": [
        "# Introdução aos Compressores de Lista\n",
        "\n",
        "## 2. Estrutura Básica\n",
        "\n",
        "### Objetivos:\n",
        "- Explicar a sintaxe básica dos compressores de lista em Python.\n",
        "- Fornecer exemplos básicos de compressores de lista para criar listas simples.\n",
        "\n",
        "### Conteúdo:\n",
        "\n",
        "#### A. Sintaxe dos Compressores de Lista\n",
        "- Compressores de lista são uma forma compacta de criar listas.\n",
        "- Sua sintaxe básica inclui uma expressão seguida de um ou mais `for` ou `if`.\n",
        "\n",
        "#### B. Exemplos Básicos de Compressores de Lista\n",
        "- Demonstração de como criar listas simples usando compressores de lista.\n",
        "\n",
        "### Exemplo de Código:"
      ]
    },
    {
      "cell_type": "code",
      "execution_count": 3,
      "metadata": {
        "id": "CaD56v2FEzu-",
        "outputId": "8040adef-ec4b-4f5a-91e1-562088f92838",
        "colab": {
          "base_uri": "https://localhost:8080/"
        }
      },
      "outputs": [
        {
          "output_type": "stream",
          "name": "stdout",
          "text": [
            "[0, 1, 4, 9, 16, 25, 36, 49, 64, 81]\n"
          ]
        }
      ],
      "source": [
        "# Exemplo de compressores de lista para criar listas simples\n",
        "\n",
        "# Criando uma lista de quadrados de números de 0 a 9\n",
        "quadrados = [i ** 2 for i in range(10)]\n",
        "print(quadrados)  # Saída: [0, 1, 4, 9, 16, 25, 36, 49, 64, 81]"
      ]
    },
    {
      "cell_type": "code",
      "execution_count": 4,
      "metadata": {
        "id": "84ZTI4jVEzu-",
        "outputId": "03a2642f-1d2b-45cc-adfc-6237bb43f6d3",
        "colab": {
          "base_uri": "https://localhost:8080/"
        }
      },
      "outputs": [
        {
          "output_type": "stream",
          "name": "stdout",
          "text": [
            "['Olá, Alice!', 'Olá, Bob!', 'Olá, Charlie!']\n"
          ]
        }
      ],
      "source": [
        "# Criando uma lista de strings formatadas\n",
        "nomes = ['Alice', 'Bob', 'Charlie']\n",
        "saudacoes = [f'Olá, {nome}!' for nome in nomes]\n",
        "print(saudacoes)  # Saída: ['Olá, Alice!', 'Olá, Bob!', 'Olá, Charlie!']"
      ]
    },
    {
      "cell_type": "code",
      "execution_count": 5,
      "metadata": {
        "id": "SSneWTEfEzu-",
        "outputId": "f09a348d-da13-4c73-b813-1f774d5aea98",
        "colab": {
          "base_uri": "https://localhost:8080/"
        }
      },
      "outputs": [
        {
          "output_type": "stream",
          "name": "stdout",
          "text": [
            "[0, 2, 4, 6, 8]\n"
          ]
        }
      ],
      "source": [
        "# Utilizando uma condição dentro de um compressor de lista\n",
        "pares = [x for x in range(10) if x % 2 == 0]\n",
        "\n",
        "print(pares)  # Saída: [0, 2, 4, 6, 8]"
      ]
    },
    {
      "cell_type": "code",
      "execution_count": 6,
      "metadata": {
        "id": "pjtXJGb1Ezu_",
        "outputId": "41dd3676-e8a2-49b0-af2d-afe885e7cd18",
        "colab": {
          "base_uri": "https://localhost:8080/"
        }
      },
      "outputs": [
        {
          "output_type": "stream",
          "name": "stdout",
          "text": [
            "[0, 2, 4, 6, 8]\n"
          ]
        }
      ],
      "source": [
        "pares_for = []\n",
        "for x in range(10):\n",
        "    if x % 2 == 0:\n",
        "        pares_for.append(x)\n",
        "\n",
        "print(pares_for) # Saída: [0, 2, 4, 6, 8]"
      ]
    },
    {
      "cell_type": "markdown",
      "metadata": {
        "id": "oz_B6Jz0Ezu_"
      },
      "source": [
        "# Introdução aos Compressores de Lista\n",
        "\n",
        "## 3. Compressores de Lista Avançados\n",
        "\n",
        "### Objetivos:\n",
        "- Demonstrar o uso de condições em compressores de lista.\n",
        "- Apresentar exemplos de compressores de lista aninhados.\n",
        "\n",
        "### Conteúdo:\n",
        "\n",
        "#### A. Uso de Condições em Compressores de Lista\n",
        "- Compressores de lista podem incluir condições para filtrar os elementos da lista resultante.\n",
        "\n",
        "#### B. Compressores de Lista Aninhados\n",
        "- É possível aninhar compressores de lista para criar listas complexas.\n",
        "\n",
        "### Exemplo de Código:"
      ]
    },
    {
      "cell_type": "code",
      "execution_count": 7,
      "metadata": {
        "id": "gSHTmNtJEzu_",
        "outputId": "e03b9f54-df3e-4175-e7e2-b0a836ab493a",
        "colab": {
          "base_uri": "https://localhost:8080/"
        }
      },
      "outputs": [
        {
          "output_type": "stream",
          "name": "stdout",
          "text": [
            "[1, 9, 25, 49, 81]\n"
          ]
        }
      ],
      "source": [
        "# Exemplo de compressor de lista com condição\n",
        "\n",
        "# Filtrando números ímpares e elevando ao quadrado\n",
        "impares_ao_quadrado = [x ** 2 for x in range(10) if x % 2 != 0]\n",
        "print(impares_ao_quadrado)  # Saída: [1, 9, 25, 49, 81]"
      ]
    },
    {
      "cell_type": "code",
      "execution_count": 8,
      "metadata": {
        "id": "fABxxlM2Ezu_",
        "outputId": "f332bd39-4f23-4637-f112-5ff5d092f406",
        "colab": {
          "base_uri": "https://localhost:8080/"
        }
      },
      "outputs": [
        {
          "output_type": "stream",
          "name": "stdout",
          "text": [
            "[[0, 1, 2], [0, 1, 2], [0, 1, 2]]\n"
          ]
        }
      ],
      "source": [
        "# Exemplo de compressor de lista aninhado\n",
        "\n",
        "# Criando uma matriz 3x3 com compressores de lista\n",
        "matriz = [[j for j in range(3)] for i in range(3)]\n",
        "print(matriz)  # Saída: [[0, 1, 2], [0, 1, 2], [0, 1, 2]]"
      ]
    },
    {
      "cell_type": "code",
      "execution_count": 9,
      "metadata": {
        "id": "H6t2HrxpEzu_",
        "outputId": "1a871210-8a62-4b13-daa9-4efa80996f45",
        "colab": {
          "base_uri": "https://localhost:8080/"
        }
      },
      "outputs": [
        {
          "output_type": "stream",
          "name": "stdout",
          "text": [
            "[[1, 3], [1, 4], [2, 3], [2, 1], [2, 4], [3, 1], [3, 4]]\n"
          ]
        }
      ],
      "source": [
        "# Combinando elementos de duas listas se não forem iguais\n",
        "combinacoes = [[x, y] for x in [1, 2, 3] for y in [3, 1, 4] if x != y]\n",
        "print(combinacoes)  # Saída: [[1, 3], [1, 4], [2, 3], [2, 1], [2, 4], [3, 1], [3, 4]]"
      ]
    }
  ],
  "metadata": {
    "kernelspec": {
      "display_name": "base",
      "language": "python",
      "name": "python3"
    },
    "language_info": {
      "codemirror_mode": {
        "name": "ipython",
        "version": 3
      },
      "file_extension": ".py",
      "mimetype": "text/x-python",
      "name": "python",
      "nbconvert_exporter": "python",
      "pygments_lexer": "ipython3",
      "version": "3.9.13"
    },
    "colab": {
      "provenance": []
    }
  },
  "nbformat": 4,
  "nbformat_minor": 0
}