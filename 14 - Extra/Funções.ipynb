{
  "cells": [
    {
      "cell_type": "markdown",
      "metadata": {
        "id": "ov6jiTNADyul"
      },
      "source": [
        "# Parte 1: Introdução às Funções\n",
        "\n",
        "## 1. Definição e Uso de Funções\n",
        "\n",
        "### Objetivos:\n",
        "- Explicar o que são funções em Python.\n",
        "- Discutir por que as funções são úteis na programação.\n",
        "- Apresentar a estrutura básica de uma função.\n",
        "\n",
        "### Conteúdo:\n",
        "\n",
        "#### A. O que são Funções?\n",
        "- Funções são blocos de código reutilizáveis que são usados para realizar uma tarefa específica.\n",
        "- Elas ajudam a tornar o código mais organizado, legível e permitem a reutilização de código.\n",
        "- Funções podem ser chamadas várias vezes dentro de um programa, potencialmente com diferentes argumentos.\n",
        "\n",
        "#### B. Estrutura Básica de uma Função\n",
        "- **Definição da Função**: Usa-se a palavra-chave `def` seguida pelo nome da função e parênteses `()`.\n",
        "- **Parâmetros da Função**: Variáveis listadas dentro dos parênteses. São os inputs da função.\n",
        "- **Corpo da Função**: Bloco de código onde a tarefa da função é realizada.\n",
        "- **Retorno da Função**: Opcionalmente, funções podem retornar valores usando a palavra-chave `return`.\n",
        "\n",
        "### Exemplo de Código:\n",
        "\n",
        "\n"
      ]
    },
    {
      "cell_type": "code",
      "execution_count": 1,
      "metadata": {
        "colab": {
          "base_uri": "https://localhost:8080/"
        },
        "id": "f8P68Cs3Dyuo",
        "outputId": "42274130-0030-4b37-f2d3-81899c0d141c"
      },
      "outputs": [
        {
          "output_type": "stream",
          "name": "stdout",
          "text": [
            "Olá, Alice!\n"
          ]
        }
      ],
      "source": [
        "# Exemplo de função em Python\n",
        "\n",
        "# Definindo uma função\n",
        "def saudar(nome):\n",
        "    \"\"\"\n",
        "    Função para saudar uma pessoa.\n",
        "    Parâmetros:\n",
        "    nome (str): Nome da pessoa a ser saudada.\n",
        "    \"\"\"\n",
        "    # Criando uma mensagem de saudação\n",
        "    mensagem = f\"Olá, {nome}!\"\n",
        "    # Retornando a mensagem\n",
        "    return mensagem\n",
        "\n",
        "# Chamando a função e passando um argumento\n",
        "resultado = saudar(\"Alice\")\n",
        "print(resultado)  # Saída esperada: \"Olá, Alice!\""
      ]
    },
    {
      "cell_type": "code",
      "execution_count": 2,
      "metadata": {
        "colab": {
          "base_uri": "https://localhost:8080/"
        },
        "id": "ksOADGTMDyup",
        "outputId": "10edf8e3-2dc6-46e9-9e61-80d2de660873"
      },
      "outputs": [
        {
          "output_type": "stream",
          "name": "stdout",
          "text": [
            "Olá, Pedro!\n"
          ]
        }
      ],
      "source": [
        "# Chamando a função e passando um argumento\n",
        "resultado = saudar(\"Pedro\")\n",
        "print(resultado)  # Saída esperada: \"Olá, Pedro!\""
      ]
    },
    {
      "cell_type": "code",
      "execution_count": 3,
      "metadata": {
        "colab": {
          "base_uri": "https://localhost:8080/"
        },
        "id": "6L19IcUDDyup",
        "outputId": "39cda210-9e33-4b66-e7ac-1ca59fc94afd"
      },
      "outputs": [
        {
          "output_type": "stream",
          "name": "stdout",
          "text": [
            "Olá, Roberta!\n"
          ]
        }
      ],
      "source": [
        "# Chamando a função e passando um argumento\n",
        "resultado = saudar(\"Roberta\")\n",
        "print(resultado)  # Saída esperada: \"Olá, Roberta!\""
      ]
    },
    {
      "cell_type": "code",
      "execution_count": 7,
      "metadata": {
        "colab": {
          "base_uri": "https://localhost:8080/",
          "height": 106
        },
        "id": "4VEjR049Dyup",
        "outputId": "d64ca525-f2a9-4b86-8750-ae4cb676d346"
      },
      "outputs": [
        {
          "output_type": "error",
          "ename": "SyntaxError",
          "evalue": "unterminated string literal (detected at line 2) (<ipython-input-7-33c575b88a1c>, line 2)",
          "traceback": [
            "\u001b[0;36m  File \u001b[0;32m\"<ipython-input-7-33c575b88a1c>\"\u001b[0;36m, line \u001b[0;32m2\u001b[0m\n\u001b[0;31m    resultado = saudar(\")\u001b[0m\n\u001b[0m                       ^\u001b[0m\n\u001b[0;31mSyntaxError\u001b[0m\u001b[0;31m:\u001b[0m unterminated string literal (detected at line 2)\n"
          ]
        }
      ],
      "source": [
        "# Chamando a função sem passar um argumento\n",
        "resultado = saudar(\")"
      ]
    },
    {
      "cell_type": "code",
      "execution_count": 8,
      "metadata": {
        "colab": {
          "base_uri": "https://localhost:8080/"
        },
        "id": "gafIYmPzDyuq",
        "outputId": "a4624f8d-ac08-4770-a925-441c3e3bee49"
      },
      "outputs": [
        {
          "output_type": "stream",
          "name": "stdout",
          "text": [
            "8\n"
          ]
        }
      ],
      "source": [
        "# Exemplo de função para somar dois números\n",
        "\n",
        "# Definindo a função\n",
        "def somar(num1, num2):\n",
        "    \"\"\"\n",
        "    Função para somar dois números.\n",
        "    Parâmetros:\n",
        "    num1 (int, float): Primeiro número a ser somado.\n",
        "    num2 (int, float): Segundo número a ser somado.\n",
        "    \"\"\"\n",
        "    # Realizando a soma\n",
        "    resultado = num1 + num2\n",
        "    # Retornando o resultado\n",
        "    return resultado\n",
        "\n",
        "# Chamando a função e passando dois números\n",
        "soma = somar(5, 3)\n",
        "print(soma)  # Saída esperada: 8"
      ]
    },
    {
      "cell_type": "code",
      "execution_count": 9,
      "metadata": {
        "colab": {
          "base_uri": "https://localhost:8080/"
        },
        "id": "Vw2xr3bwDyuq",
        "outputId": "0296861d-2524-45fe-d959-77b76d06cec5"
      },
      "outputs": [
        {
          "output_type": "stream",
          "name": "stdout",
          "text": [
            "35\n"
          ]
        }
      ],
      "source": [
        "soma = somar(5, 30)\n",
        "print(soma)  # Saída esperada: 35"
      ]
    },
    {
      "cell_type": "code",
      "execution_count": 10,
      "metadata": {
        "colab": {
          "base_uri": "https://localhost:8080/",
          "height": 176
        },
        "id": "QgZETdw_Dyuq",
        "outputId": "c32f1355-be75-48d6-b34d-0a70954f26b4"
      },
      "outputs": [
        {
          "output_type": "error",
          "ename": "TypeError",
          "evalue": "somar() missing 1 required positional argument: 'num2'",
          "traceback": [
            "\u001b[0;31m---------------------------------------------------------------------------\u001b[0m",
            "\u001b[0;31mTypeError\u001b[0m                                 Traceback (most recent call last)",
            "\u001b[0;32m<ipython-input-10-98d037db1749>\u001b[0m in \u001b[0;36m<cell line: 2>\u001b[0;34m()\u001b[0m\n\u001b[1;32m      1\u001b[0m \u001b[0;31m# Chamar a função sem os parâmetros definidos\u001b[0m\u001b[0;34m\u001b[0m\u001b[0;34m\u001b[0m\u001b[0m\n\u001b[0;32m----> 2\u001b[0;31m \u001b[0msoma\u001b[0m \u001b[0;34m=\u001b[0m \u001b[0msomar\u001b[0m\u001b[0;34m(\u001b[0m\u001b[0;36m5\u001b[0m\u001b[0;34m,\u001b[0m \u001b[0;34m)\u001b[0m\u001b[0;34m\u001b[0m\u001b[0;34m\u001b[0m\u001b[0m\n\u001b[0m\u001b[1;32m      3\u001b[0m \u001b[0mprint\u001b[0m\u001b[0;34m(\u001b[0m\u001b[0msoma\u001b[0m\u001b[0;34m)\u001b[0m  \u001b[0;31m# Saída esperada: 35\u001b[0m\u001b[0;34m\u001b[0m\u001b[0;34m\u001b[0m\u001b[0m\n",
            "\u001b[0;31mTypeError\u001b[0m: somar() missing 1 required positional argument: 'num2'"
          ]
        }
      ],
      "source": [
        "# Chamar a função sem os parâmetros definidos\n",
        "soma = somar(5, )\n",
        "print(soma)  # Saída esperada: 35"
      ]
    },
    {
      "cell_type": "markdown",
      "metadata": {
        "id": "wC0wp2t7Dyuq"
      },
      "source": [
        "## 3. Parâmetros e Argumentos\n",
        "\n",
        "### Objetivos:\n",
        "- Explicar os tipos de parâmetros em funções: obrigatórios e opcionais.\n",
        "- Clarificar a diferença entre parâmetros e argumentos.\n",
        "\n",
        "### Conteúdo:\n",
        "\n",
        "#### A. Tipos de Parâmetros\n",
        "- **Parâmetros Obrigatórios**: São aqueles que a função espera receber e sem os quais não pode operar corretamente.\n",
        "- **Parâmetros Opcionais**: Frequentemente definidos com valores padrão, que a função usará caso não sejam fornecidos argumentos para eles.\n",
        "\n",
        "#### B. Diferença entre Parâmetros e Argumentos\n",
        "- **Parâmetros** são as variáveis listadas na definição de uma função.\n",
        "- **Argumentos** são os valores reais fornecidos à função quando ela é chamada.\n",
        "\n",
        "### Exemplo de Código:"
      ]
    },
    {
      "cell_type": "code",
      "execution_count": 11,
      "metadata": {
        "colab": {
          "base_uri": "https://localhost:8080/"
        },
        "id": "wN5esiVQDyuq",
        "outputId": "47eb2cad-7749-4d05-a745-55799226090f"
      },
      "outputs": [
        {
          "output_type": "stream",
          "name": "stdout",
          "text": [
            "Meu nome é Alice e tenho 25 anos.\n",
            "Meu nome é Bob e tenho 30 anos.\n"
          ]
        }
      ],
      "source": [
        "# Exemplo de função com parâmetros obrigatórios e opcionais\n",
        "\n",
        "def introduzir(nome, idade=30):\n",
        "    \"\"\"\n",
        "    Função para introduzir uma pessoa, mostrando seu nome e idade.\n",
        "    Parâmetros:\n",
        "    nome (str): Nome da pessoa (obrigatório).\n",
        "    idade (int): Idade da pessoa (opcional, padrão 30).\n",
        "    \"\"\"\n",
        "    # Construindo a mensagem de introdução\n",
        "    mensagem = f\"Meu nome é {nome} e tenho {idade} anos.\"\n",
        "    return mensagem\n",
        "\n",
        "# Chamando a função com ambos os parâmetros\n",
        "print(introduzir(\"Alice\", 25))  # Saída: Meu nome é Alice e tenho 25 anos.\n",
        "\n",
        "# Chamando a função apenas com o parâmetro obrigatório\n",
        "print(introduzir(\"Bob\"))  # Saída: Meu nome é Bob e tenho 30 anos."
      ]
    },
    {
      "cell_type": "code",
      "execution_count": 12,
      "metadata": {
        "colab": {
          "base_uri": "https://localhost:8080/",
          "height": 159
        },
        "id": "gngx110QDyur",
        "outputId": "6bc2f2a2-cec7-47f7-f4c8-ede846d45926"
      },
      "outputs": [
        {
          "output_type": "error",
          "ename": "TypeError",
          "evalue": "introduzir() missing 1 required positional argument: 'nome'",
          "traceback": [
            "\u001b[0;31m---------------------------------------------------------------------------\u001b[0m",
            "\u001b[0;31mTypeError\u001b[0m                                 Traceback (most recent call last)",
            "\u001b[0;32m<ipython-input-12-184eb6467c86>\u001b[0m in \u001b[0;36m<cell line: 2>\u001b[0;34m()\u001b[0m\n\u001b[1;32m      1\u001b[0m \u001b[0;31m# Chamando a função sem parâmetros obrigatório\u001b[0m\u001b[0;34m\u001b[0m\u001b[0;34m\u001b[0m\u001b[0m\n\u001b[0;32m----> 2\u001b[0;31m \u001b[0mintroduzir\u001b[0m\u001b[0;34m(\u001b[0m\u001b[0;34m)\u001b[0m\u001b[0;34m\u001b[0m\u001b[0;34m\u001b[0m\u001b[0m\n\u001b[0m",
            "\u001b[0;31mTypeError\u001b[0m: introduzir() missing 1 required positional argument: 'nome'"
          ]
        }
      ],
      "source": [
        "# Chamando a função sem parâmetros obrigatório\n",
        "introduzir()"
      ]
    },
    {
      "cell_type": "markdown",
      "metadata": {
        "id": "UJvOxCUqDyur"
      },
      "source": [
        "# Parte 2: Aprofundamento em Funções\n",
        "\n",
        "## 1. Escopo de Variáveis\n",
        "\n",
        "### Objetivos:\n",
        "- Ensinar o conceito de escopo de variáveis em Python.\n",
        "- Diferenciar entre variáveis locais e globais.\n",
        "- Discutir boas práticas no uso de variáveis em funções.\n",
        "\n",
        "### Conteúdo:\n",
        "\n",
        "#### A. Variáveis Locais e Globais\n",
        "- **Variáveis Locais**: Variáveis definidas dentro de uma função, acessíveis apenas dentro dessa função.\n",
        "- **Variáveis Globais**: Variáveis definidas fora de qualquer função, acessíveis em qualquer parte do código.\n",
        "\n",
        "#### B. Boas Práticas no Uso de Variáveis\n",
        "- Evitar o uso excessivo de variáveis globais, pois podem levar a erros difíceis de rastrear.\n",
        "- Preferir variáveis locais para manter o código mais claro e modular.\n",
        "\n",
        "### Exemplo de Código:"
      ]
    },
    {
      "cell_type": "code",
      "execution_count": 13,
      "metadata": {
        "colab": {
          "base_uri": "https://localhost:8080/"
        },
        "id": "Nt0wpSJGDyur",
        "outputId": "bdaa9fa5-04b7-4759-a18a-1d4d4f71aceb"
      },
      "outputs": [
        {
          "output_type": "stream",
          "name": "stdout",
          "text": [
            "50\n"
          ]
        }
      ],
      "source": [
        "# Exemplo demonstrando escopo local e global de variáveis\n",
        "\n",
        "# Variável global\n",
        "numero = 10  # Esta variável é global e pode ser acessada em qualquer parte do código\n",
        "\n",
        "def multiplicar(valor):\n",
        "    # Variável local\n",
        "    resultado = numero * valor  # 'resultado' é uma variável local, acessível apenas dentro desta função\n",
        "    return resultado\n",
        "\n",
        "# Chamando a função e imprimindo o resultado\n",
        "print(multiplicar(5))  # Saída esperada: 50"
      ]
    },
    {
      "cell_type": "markdown",
      "metadata": {
        "id": "2pDRiECGDyur"
      },
      "source": [
        "# Parte 2: Aprofundamento em Funções\n",
        "\n",
        "## 2. Valores de Retorno\n",
        "\n",
        "### Objetivos:\n",
        "- Ensinar como as funções podem retornar valores.\n",
        "- Explicar o uso de `return` para retornar valores simples e múltiplos.\n",
        "- Discutir como `return` também pode ser usado para encerrar a execução de uma função.\n",
        "\n",
        "### Conteúdo:\n",
        "\n",
        "#### A. Retorno de Valores Simples\n",
        "- Uma função pode retornar um único valor usando a palavra-chave `return`.\n",
        "\n",
        "#### B. Retorno de Múltiplos Valores\n",
        "- Uma função pode retornar vários valores, geralmente na forma de uma tupla.\n",
        "\n",
        "#### C. Uso de `return` para Encerrar a Função\n",
        "- A palavra-chave `return` também pode ser usada para sair de uma função, encerrando sua execução.\n",
        "\n",
        "### Exemplo de Código:"
      ]
    },
    {
      "cell_type": "code",
      "execution_count": 15,
      "metadata": {
        "colab": {
          "base_uri": "https://localhost:8080/"
        },
        "id": "3piSqHmiDyus",
        "outputId": "19c72a4e-3449-47e6-9963-ec6782d5796b"
      },
      "outputs": [
        {
          "output_type": "stream",
          "name": "stdout",
          "text": [
            "Soma: 15, Multiplicação: 50\n"
          ]
        }
      ],
      "source": [
        "# Exemplo de função com valores de retorno simples e múltiplos\n",
        "\n",
        "def calcular_operacoes(a, b):\n",
        "    \"\"\"\n",
        "    Função para calcular a soma e multiplicação de dois números.\n",
        "    Parâmetros:\n",
        "    a (int, float): Primeiro número.\n",
        "    b (int, float): Segundo número.\n",
        "\n",
        "    Retorna:\n",
        "    soma (int, float): Soma de a e b.\n",
        "    multiplicacao (int, float): Multiplicação de a e b.\n",
        "    \"\"\"\n",
        "    soma = a + b\n",
        "    multiplicacao = a * b\n",
        "    # Retornando múltiplos valores\n",
        "    return soma, multiplicacao\n",
        "\n",
        "# Chamando a função e desempacotando os valores retornados\n",
        "soma_resultado, multiplicacao_resultado = calcular_operacoes(10, 5)\n",
        "print(f\"Soma: {soma_resultado}, Multiplicação: {multiplicacao_resultado}\")\n",
        "# Saída esperada: Soma: 15, Multiplicação: 50"
      ]
    },
    {
      "cell_type": "markdown",
      "metadata": {
        "id": "0tJwtllADyus"
      },
      "source": [
        "# Parte 2: Aprofundamento em Funções\n",
        "\n",
        "## 3. Funções como Objetos de Primeira Classe\n",
        "\n",
        "### Objetivos:\n",
        "- Ensinar como funções podem ser tratadas como objetos de primeira classe em Python.\n",
        "- Mostrar como atribuir funções a variáveis.\n",
        "- Explicar como passar funções como argumentos para outras funções.\n",
        "\n",
        "### Conteúdo:\n",
        "\n",
        "#### A. Atribuição de Funções a Variáveis\n",
        "- Em Python, funções são objetos e podem ser atribuídas a variáveis.\n",
        "\n",
        "#### B. Passagem de Funções como Argumentos\n",
        "- Funções podem ser passadas como argumentos para outras funções.\n",
        "\n",
        "### Exemplo de Código:"
      ]
    },
    {
      "cell_type": "code",
      "execution_count": 16,
      "metadata": {
        "colab": {
          "base_uri": "https://localhost:8080/"
        },
        "id": "hHvdRTFXDyus",
        "outputId": "e8cb1947-7356-4a9b-c5f5-524548ad6750"
      },
      "outputs": [
        {
          "output_type": "stream",
          "name": "stdout",
          "text": [
            "Olá, Alice!\n"
          ]
        }
      ],
      "source": [
        "# Exemplo de funções como objetos de primeira classe\n",
        "\n",
        "# Definindo uma função simples\n",
        "def saudar(nome):\n",
        "    return f\"Olá, {nome}!\"\n",
        "\n",
        "# Atribuindo a função a uma variável\n",
        "funcao_saudar = saudar\n",
        "# Chamando a função através da variável\n",
        "print(funcao_saudar(\"Alice\"))  # Saída: Olá, Alice!"
      ]
    },
    {
      "cell_type": "code",
      "execution_count": 17,
      "metadata": {
        "colab": {
          "base_uri": "https://localhost:8080/",
          "height": 35
        },
        "id": "0FNxCBpADyus",
        "outputId": "50c731e0-5656-4930-d8e9-ec693d29758e"
      },
      "outputs": [
        {
          "output_type": "execute_result",
          "data": {
            "text/plain": [
              "'Olá, Alice!'"
            ],
            "application/vnd.google.colaboratory.intrinsic+json": {
              "type": "string"
            }
          },
          "metadata": {},
          "execution_count": 17
        }
      ],
      "source": [
        "funcao_saudar(\"Alice\")"
      ]
    },
    {
      "cell_type": "code",
      "execution_count": 18,
      "metadata": {
        "colab": {
          "base_uri": "https://localhost:8080/"
        },
        "id": "yBMtPAZpDyus",
        "outputId": "15506fbe-a23c-4aad-c7b3-47c66c5351f6"
      },
      "outputs": [
        {
          "output_type": "stream",
          "name": "stdout",
          "text": [
            "Olá, Alice!\n"
          ]
        }
      ],
      "source": [
        "print(funcao_saudar(\"Alice\"))"
      ]
    },
    {
      "cell_type": "code",
      "execution_count": 19,
      "metadata": {
        "colab": {
          "base_uri": "https://localhost:8080/"
        },
        "id": "q2uhxscDDyus",
        "outputId": "19432a18-294b-4eb9-855f-69ea8503104b"
      },
      "outputs": [
        {
          "output_type": "stream",
          "name": "stdout",
          "text": [
            "Olá, Bob!\n"
          ]
        }
      ],
      "source": [
        "# Definindo uma função que aceita outra função como argumento\n",
        "def executar_funcao(funcao, argumento):\n",
        "    return funcao(argumento)\n",
        "\n",
        "# Passando a função 'saudar' como argumento\n",
        "resultado = executar_funcao(saudar, \"Bob\")\n",
        "print(resultado)  # Saída: Olá, Bob!"
      ]
    }
  ],
  "metadata": {
    "kernelspec": {
      "display_name": "base",
      "language": "python",
      "name": "python3"
    },
    "language_info": {
      "codemirror_mode": {
        "name": "ipython",
        "version": 3
      },
      "file_extension": ".py",
      "mimetype": "text/x-python",
      "name": "python",
      "nbconvert_exporter": "python",
      "pygments_lexer": "ipython3",
      "version": "3.9.13"
    },
    "colab": {
      "provenance": []
    }
  },
  "nbformat": 4,
  "nbformat_minor": 0
}