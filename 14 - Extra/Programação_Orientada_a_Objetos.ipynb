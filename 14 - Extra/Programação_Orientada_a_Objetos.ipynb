{
  "cells": [
    {
      "cell_type": "markdown",
      "metadata": {
        "id": "imYGtCaWFV9B"
      },
      "source": [
        "# Introdução à Programação Orientada a Objetos\n",
        "\n",
        "## 1. Conceitos Básicos de POO\n",
        "\n",
        "### Objetivos:\n",
        "- Apresentar os conceitos fundamentais da Programação Orientada a Objetos (POO).\n",
        "- Explicar o que são classes e objetos.\n",
        "- Descrever a estrutura de uma classe: métodos, atributos, construtor `__init__`.\n",
        "\n",
        "### Conteúdo:\n",
        "\n",
        "#### A. Classes e Objetos\n",
        "- Uma **classe** é um modelo ou blueprint para criar objetos.\n",
        "- Um **objeto** é uma instância de uma classe.\n",
        "\n",
        "#### B. Estrutura de uma Classe\n",
        "- **Atributos**: Variáveis que armazenam dados relacionados a objetos.\n",
        "- **Métodos**: Funções definidas dentro de uma classe que descrevem os comportamentos dos objetos.\n",
        "- **Construtor `__init__`**: Método especial usado para inicializar os atributos de um objeto.\n",
        "\n",
        "### Exemplo de Código:"
      ]
    },
    {
      "cell_type": "code",
      "execution_count": 1,
      "metadata": {
        "id": "jsuxgk-OFV9E",
        "outputId": "77fcd23a-af79-4aee-9c71-ac02c8575569",
        "colab": {
          "base_uri": "https://localhost:8080/"
        }
      },
      "outputs": [
        {
          "output_type": "stream",
          "name": "stdout",
          "text": [
            "Marca: Toyota, Modelo: Corolla\n"
          ]
        }
      ],
      "source": [
        "# Exemplo de uma classe em Python\n",
        "\n",
        "class Carro:\n",
        "    # Construtor da classe\n",
        "    def __init__(self, marca, modelo):\n",
        "        # Atributos da classe\n",
        "        self.marca = marca\n",
        "        self.modelo = modelo\n",
        "\n",
        "    # Método da classe\n",
        "    def exibir_informacoes(self):\n",
        "        return f\"Marca: {self.marca}, Modelo: {self.modelo}\"\n",
        "\n",
        "# Criando um objeto da classe Carro\n",
        "meu_carro = Carro(\"Toyota\", \"Corolla\")\n",
        "\n",
        "# Chamando um método do objeto\n",
        "print(meu_carro.exibir_informacoes())  # Saída: Marca: Toyota, Modelo: Corolla"
      ]
    },
    {
      "cell_type": "markdown",
      "metadata": {
        "id": "XGCvcV8jFV9F"
      },
      "source": [
        "# Introdução à Programação Orientada a Objetos\n",
        "\n",
        "## 2. Herança e Polimorfismo\n",
        "\n",
        "### Objetivos:\n",
        "- Explicar o conceito de herança em Programação Orientada a Objetos.\n",
        "\n",
        "### Conteúdo:\n",
        "\n",
        "#### A. Herança\n",
        "- Herança permite a criação de uma nova classe que é uma versão modificada de uma classe existente.\n",
        "- A nova classe, chamada de classe filha, herda atributos e métodos da classe pai.\n",
        "\n",
        "\n",
        "### Exemplo de Código:"
      ]
    },
    {
      "cell_type": "code",
      "execution_count": 2,
      "metadata": {
        "id": "uIAqaExlFV9F",
        "outputId": "c315c6ae-5147-4bf9-8033-2300a7efddc5",
        "colab": {
          "base_uri": "https://localhost:8080/"
        }
      },
      "outputs": [
        {
          "output_type": "stream",
          "name": "stdout",
          "text": [
            "Veículo: Honda Civic\n",
            "Carro: Ford Focus, Portas: 4\n"
          ]
        }
      ],
      "source": [
        "# Exemplo de herança e polimorfismo em Python\n",
        "\n",
        "# Classe pai\n",
        "class Veiculo:\n",
        "    def __init__(self, marca, modelo):\n",
        "        self.marca = marca\n",
        "        self.modelo = modelo\n",
        "\n",
        "    def exibir_informacoes(self):\n",
        "        return f\"Veículo: {self.marca} {self.modelo}\"\n",
        "\n",
        "# Classe filha que herda de Veiculo\n",
        "class Carro(Veiculo):\n",
        "    def __init__(self, marca, modelo, portas):\n",
        "        super().__init__(marca, modelo)\n",
        "        self.portas = portas\n",
        "\n",
        "    # Método sobrescrito\n",
        "    def exibir_informacoes(self):\n",
        "        return f\"Carro: {self.marca} {self.modelo}, Portas: {self.portas}\"\n",
        "\n",
        "# Criando objetos das classes Veiculo e Carro\n",
        "veiculo = Veiculo(\"Honda\", \"Civic\")\n",
        "carro = Carro(\"Ford\", \"Focus\", 4)\n",
        "\n",
        "# Polimorfismo: ambos os objetos podem usar o método exibir_informacoes\n",
        "print(veiculo.exibir_informacoes())  # Saída: Veículo: Honda Civic\n",
        "print(carro.exibir_informacoes())    # Saída: Carro: Ford Focus, Portas: 4"
      ]
    },
    {
      "cell_type": "markdown",
      "metadata": {
        "id": "3-L-QZe5FV9F"
      },
      "source": [
        "## 3. Encapsulamento e Métodos Especiais\n",
        "\n",
        "### Objetivos:\n",
        "- **Explicar o conceito de encapsulamento em POO**: Encapsulamento é um dos princípios fundamentais da programação orientada a objetos. Envolve a ideia de restringir o acesso a certos componentes de uma classe, o que significa que o estado interno de um objeto deve ser protegido de ser acessado diretamente de fora da classe.\n",
        "- **Discutir o uso de métodos especiais em Python**: Métodos especiais são funções que têm nomes de método duplo sublinhado (como `__init__`, `__str__`, e `__repr__`). Eles são usados para realizar operações especiais em Python ou para alterar comportamentos padrão de operações.\n",
        "\n",
        "### Conteúdo:\n",
        "\n",
        "#### A. Encapsulamento\n",
        "- **Restringindo Acesso**: Encapsulamento em POO é implementado usando métodos e variáveis privados (indicados em Python por dois sublinhados antes do nome, como `__nome`). Isso previne a modificação direta dos estados internos do objeto e permite o controle sobre como esses estados são acessados ou alterados.\n",
        "- **Métodos de Acesso**: Métodos públicos são usados para acessar ou modificar dados privados. Esses métodos formam a interface pública da classe e abstraem a implementação interna.\n",
        "\n",
        "#### B. Métodos Especiais\n",
        "- **Definindo Comportamentos Específicos**: Métodos especiais permitem que objetos Python imitem comportamentos de tipos integrados ou implementem funcionalidades específicas. Por exemplo, `__str__` define a representação informal do objeto (string amigável), enquanto `__repr__` define a representação oficial (mais formal, muitas vezes usada para depuração).\n",
        "\n",
        "### Exemplo de Código:"
      ]
    },
    {
      "cell_type": "code",
      "execution_count": 3,
      "metadata": {
        "id": "GAx8zkK3FV9G",
        "outputId": "4fab6b77-de15-4379-f9ef-d03e62524356",
        "colab": {
          "base_uri": "https://localhost:8080/"
        }
      },
      "outputs": [
        {
          "output_type": "stream",
          "name": "stdout",
          "text": [
            "Produto: Caneta, Preço: 1.5\n",
            "Produto('Caneta', 1.5)\n"
          ]
        }
      ],
      "source": [
        "# Exemplo de encapsulamento e métodos especiais em Python\n",
        "\n",
        "class Produto:\n",
        "    # O construtor da classe define atributos privados\n",
        "    def __init__(self, nome, preco):\n",
        "        self.__nome = nome  # Atributo privado: nome do produto\n",
        "        self.__preco = preco  # Atributo privado: preço do produto\n",
        "\n",
        "    # Método público para acessar o preço do produto de forma segura\n",
        "    def get_preco(self):\n",
        "        return self.__preco\n",
        "\n",
        "    # Método especial __str__ para definir a representação em string do objeto\n",
        "    def __str__(self):\n",
        "        return f\"Produto: {self.__nome}, Preço: {self.__preco}\"\n",
        "\n",
        "    # Método especial __repr__ para fornecer uma representação oficial do objeto\n",
        "    def __repr__(self):\n",
        "        return f\"Produto('{self.__nome}', {self.__preco})\"\n",
        "\n",
        "# Criando um objeto da classe Produto\n",
        "produto = Produto(\"Caneta\", 1.50)\n",
        "\n",
        "# Demonstrando o uso do método __str__\n",
        "print(produto)  # Saída esperada: Produto: Caneta, Preço: 1.50\n",
        "\n",
        "# Demonstrando o uso do método __repr__\n",
        "print(repr(produto))  # Saída esperada: Produto('Caneta', 1.50)\n"
      ]
    },
    {
      "cell_type": "markdown",
      "metadata": {
        "id": "U9wKkNcUFV9G"
      },
      "source": [
        "# Parte 4: Prática de POO\n",
        "\n",
        "## 1. Exercícios Práticos de POO\n",
        "\n",
        "### Objetivos:\n",
        "- Propor exercícios práticos que envolvam a criação de classes, o uso de herança e polimorfismo.\n",
        "- Incluir desafios que incentivem a aplicação dos conceitos de encapsulamento.\n",
        "\n",
        "### Conteúdo:\n",
        "\n",
        "#### A. Exercícios de Criação de Classes e Herança\n",
        "1. Criar uma classe `Animal` com um método `emitir_som` e classes filhas que representem diferentes animais.\n",
        "2. Implementar uma classe `Veiculo` e classes derivadas como `Carro` e `Moto`, com atributos e métodos específicos.\n",
        "\n",
        "#### B. Desafios de Encapsulamento\n",
        "1. Adicionar atributos privados em uma classe existente e criar métodos públicos para acessá-los.\n",
        "2. Modificar uma classe para incluir métodos especiais, como `__str__` e `__repr__`.\n",
        "\n",
        "### Exemplos de Código para os Exercícios:"
      ]
    },
    {
      "cell_type": "markdown",
      "metadata": {
        "id": "Iaa7vLWYFV9G"
      },
      "source": [
        "# Exemplos práticos:"
      ]
    },
    {
      "cell_type": "markdown",
      "metadata": {
        "id": "ZSnGf2EfFV9G"
      },
      "source": [
        "Criação de Classes e Herança\n",
        "\n",
        "1. Criar uma classe `Animal` com um método `emitir_som` e classes filhas que representem diferentes animais."
      ]
    },
    {
      "cell_type": "code",
      "execution_count": 4,
      "metadata": {
        "id": "YCVvZaNmFV9G"
      },
      "outputs": [],
      "source": [
        "# Exemplo para Exercício A.1\n",
        "class Animal:\n",
        "    def emitir_som(self):\n",
        "        pass\n",
        "\n",
        "class Cachorro(Animal):\n",
        "    def emitir_som(self):\n",
        "        return \"Au Au\"\n",
        "\n",
        "class Gato(Animal):\n",
        "    def emitir_som(self):\n",
        "        return \"Miau\""
      ]
    },
    {
      "cell_type": "code",
      "execution_count": 5,
      "metadata": {
        "id": "lTNAtWfsFV9H",
        "outputId": "9d64bb6e-aef2-40b9-cd8e-aa439cbc537e",
        "colab": {
          "base_uri": "https://localhost:8080/",
          "height": 35
        }
      },
      "outputs": [
        {
          "output_type": "execute_result",
          "data": {
            "text/plain": [
              "'Au Au'"
            ],
            "application/vnd.google.colaboratory.intrinsic+json": {
              "type": "string"
            }
          },
          "metadata": {},
          "execution_count": 5
        }
      ],
      "source": [
        "Cachorro().emitir_som()"
      ]
    },
    {
      "cell_type": "code",
      "execution_count": 6,
      "metadata": {
        "id": "hlRObnntFV9H",
        "outputId": "797415d7-bf13-4e47-d62d-11fa5299676b",
        "colab": {
          "base_uri": "https://localhost:8080/",
          "height": 35
        }
      },
      "outputs": [
        {
          "output_type": "execute_result",
          "data": {
            "text/plain": [
              "'Miau'"
            ],
            "application/vnd.google.colaboratory.intrinsic+json": {
              "type": "string"
            }
          },
          "metadata": {},
          "execution_count": 6
        }
      ],
      "source": [
        "Gato().emitir_som()"
      ]
    },
    {
      "cell_type": "markdown",
      "metadata": {
        "id": "z96A44fLFV9H"
      },
      "source": [
        "Criação de Classes e Herança\n",
        "\n",
        "2. Implementar uma classe `Veiculo` e classes derivadas como `Carro` e `Moto`, com atributos e métodos específicos."
      ]
    },
    {
      "cell_type": "code",
      "execution_count": 7,
      "metadata": {
        "id": "htB6jCBdFV9H"
      },
      "outputs": [],
      "source": [
        "# Exemplo para Exercício A.2\n",
        "class Veiculo:\n",
        "    def __init__(self, marca, modelo):\n",
        "        self.marca = marca\n",
        "        self.modelo = modelo\n",
        "\n",
        "class Carro(Veiculo):\n",
        "    def buzinar(self):\n",
        "        return \"Buzina de Carro\"\n",
        "\n",
        "class Moto(Veiculo):\n",
        "    def buzinar(self):\n",
        "        return \"Buzina de Moto\""
      ]
    },
    {
      "cell_type": "code",
      "execution_count": 8,
      "metadata": {
        "id": "6VawPVNEFV9H",
        "outputId": "f03f883c-ddd9-4f53-e458-9ff9e6157c38",
        "colab": {
          "base_uri": "https://localhost:8080/"
        }
      },
      "outputs": [
        {
          "output_type": "stream",
          "name": "stdout",
          "text": [
            "Carro: Buzina de Carro\n"
          ]
        }
      ],
      "source": [
        "# Criando instâncias de Carro\n",
        "meu_carro = Carro(\"Toyota\", \"Corolla\")\n",
        "\n",
        "# Chamando o método buzinar\n",
        "print(f\"Carro: {meu_carro.buzinar()}\")  # Saída esperada: Carro: Buzina de Carro"
      ]
    },
    {
      "cell_type": "code",
      "execution_count": 9,
      "metadata": {
        "id": "snVzm60hFV9I",
        "outputId": "4be9227b-8d4f-43bd-c986-dd3d4cfc8133",
        "colab": {
          "base_uri": "https://localhost:8080/"
        }
      },
      "outputs": [
        {
          "output_type": "stream",
          "name": "stdout",
          "text": [
            "Moto: Buzina de Moto\n"
          ]
        }
      ],
      "source": [
        "# Criando instâncias de Moto\n",
        "minha_moto = Moto(\"Honda\", \"CBR\")\n",
        "\n",
        "# Chamando o método buzinar\n",
        "print(f\"Moto: {minha_moto.buzinar()}\")  # Saída esperada: Moto: Buzina de Moto"
      ]
    },
    {
      "cell_type": "markdown",
      "metadata": {
        "id": "kyNriV_aFV9I"
      },
      "source": [
        "Desafios de Encapsulamento\n",
        "1. Adicionar atributos privados em uma classe existente e criar métodos públicos para acessá-los."
      ]
    },
    {
      "cell_type": "code",
      "execution_count": 10,
      "metadata": {
        "id": "2ccJYHCCFV9I",
        "outputId": "4f0d5be0-195c-48b3-d6e1-3ad797f7ce2d",
        "colab": {
          "base_uri": "https://localhost:8080/"
        }
      },
      "outputs": [
        {
          "output_type": "stream",
          "name": "stdout",
          "text": [
            "Nome do Produto: Caneta\n",
            "Preço do Produto: 1.5\n"
          ]
        }
      ],
      "source": [
        "# Definição da classe Produto com encapsulamento\n",
        "class Produto:\n",
        "    def __init__(self, nome, preco):\n",
        "        self.__nome = nome  # Atributo privado: nome\n",
        "        self.__preco = preco  # Atributo privado: preco\n",
        "\n",
        "    # Método público para acessar o nome do produto\n",
        "    def get_nome(self):\n",
        "        return self.__nome\n",
        "\n",
        "    # Método público para acessar o preço do produto\n",
        "    def get_preco(self):\n",
        "        return self.__preco\n",
        "\n",
        "# Criando uma instância da classe Produto\n",
        "produto = Produto(\"Caneta\", 1.50)\n",
        "\n",
        "# Acessando os atributos privados através dos métodos públicos\n",
        "print(f\"Nome do Produto: {produto.get_nome()}\")  # Saída esperada: Nome do Produto: Caneta\n",
        "print(f\"Preço do Produto: {produto.get_preco()}\")  # Saída esperada: Preço do Produto: 1.50\n"
      ]
    },
    {
      "cell_type": "markdown",
      "metadata": {
        "id": "GLTzJmr9FV9I"
      },
      "source": [
        "Desafios de Encapsulamento\n",
        "\n",
        "2. Modificar uma classe para incluir métodos especiais, como `__str__` e `__repr__`."
      ]
    },
    {
      "cell_type": "code",
      "execution_count": 11,
      "metadata": {
        "id": "7z7rbGntFV9I",
        "outputId": "d16d486a-6f22-4f54-c538-2631b9355fe6",
        "colab": {
          "base_uri": "https://localhost:8080/"
        }
      },
      "outputs": [
        {
          "output_type": "stream",
          "name": "stdout",
          "text": [
            "Pessoa: Alice, Idade: 30\n",
            "Pessoa('Alice', 30)\n"
          ]
        }
      ],
      "source": [
        "# Definição da classe Pessoa com métodos especiais __str__ e __repr__\n",
        "class Pessoa:\n",
        "    def __init__(self, nome, idade):\n",
        "        self.nome = nome  # Atributo público: nome\n",
        "        self.idade = idade  # Atributo público: idade\n",
        "\n",
        "    # Método especial para representação em string (informal)\n",
        "    def __str__(self):\n",
        "        return f\"Pessoa: {self.nome}, Idade: {self.idade}\"\n",
        "\n",
        "    # Método especial para representação oficial (formal)\n",
        "    def __repr__(self):\n",
        "        return f\"Pessoa('{self.nome}', {self.idade})\"\n",
        "\n",
        "# Criando uma instância da classe Pessoa\n",
        "pessoa = Pessoa(\"Alice\", 30)\n",
        "\n",
        "# Imprimindo a instância (usa __str__)\n",
        "print(pessoa)  # Saída esperada: Pessoa: Alice, Idade: 30\n",
        "\n",
        "# Obtendo a representação oficial da instância (usa __repr__)\n",
        "print(repr(pessoa))  # Saída esperada: Pessoa('Alice', 30)\n"
      ]
    }
  ],
  "metadata": {
    "kernelspec": {
      "display_name": "base",
      "language": "python",
      "name": "python3"
    },
    "language_info": {
      "codemirror_mode": {
        "name": "ipython",
        "version": 3
      },
      "file_extension": ".py",
      "mimetype": "text/x-python",
      "name": "python",
      "nbconvert_exporter": "python",
      "pygments_lexer": "ipython3",
      "version": "3.9.13"
    },
    "colab": {
      "provenance": []
    }
  },
  "nbformat": 4,
  "nbformat_minor": 0
}