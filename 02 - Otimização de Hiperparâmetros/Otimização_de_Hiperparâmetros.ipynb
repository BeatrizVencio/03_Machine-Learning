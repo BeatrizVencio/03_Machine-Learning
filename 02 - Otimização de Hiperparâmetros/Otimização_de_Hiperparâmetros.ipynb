{
  "cells": [
    {
      "cell_type": "markdown",
      "metadata": {
        "id": "Obd97g59Rl4p"
      },
      "source": [
        "# Introdução à Otimização de Hiperparâmetros"
      ]
    },
    {
      "cell_type": "markdown",
      "metadata": {
        "id": "qyNDgjFzRl4r"
      },
      "source": [
        "## Modelos em Aprendizado de Máquina\n",
        "No mundo do aprendizado de máquina, um modelo é uma representação de um sistema. Ele é treinado usando um conjunto de dados e, com base nesse treinamento, faz previsões ou toma decisões sem ser explicitamente programado para realizar uma determinada tarefa."
      ]
    },
    {
      "cell_type": "code",
      "execution_count": 1,
      "metadata": {
        "id": "BHGgE7TVRl4r"
      },
      "outputs": [],
      "source": [
        "from sklearn.linear_model import LogisticRegression\n",
        "\n",
        "# Criando um modelo de Regressão Logística\n",
        "modelo = LogisticRegression()"
      ]
    },
    {
      "cell_type": "markdown",
      "metadata": {
        "id": "8Lcj1OG3Rl4s"
      },
      "source": [
        "## Parâmetros vs Hiperparâmetros em Aprendizado de Máquina\n",
        "Em aprendizado de máquina, o processo de treinamento envolve ajustar os parâmetros do modelo para melhor se adequar aos dados.\n",
        "\n",
        "Em contraste, os hiperparâmetros são configurações que influenciam como esse treinamento é realizado."
      ]
    },
    {
      "cell_type": "markdown",
      "metadata": {
        "id": "SNLYqHzwRl4s"
      },
      "source": [
        "### Parâmetros:\n",
        "O que são? São componentes do modelo que são aprendidos diretamente dos dados durante o treinamento.\n",
        "\n",
        "Exemplo: Nos modelos de redes neurais, os parâmetros são os pesos e biases (viés, um termo que adiciona um valor constante para ajudar o modelo a melhor se ajustar aos dados) que são ajustados através do treinamento."
      ]
    },
    {
      "cell_type": "code",
      "execution_count": 2,
      "metadata": {
        "id": "oras7oHtRl4s"
      },
      "outputs": [],
      "source": [
        "# Carregando dataset do sklearn\n",
        "from sklearn.datasets import load_digits\n",
        "from sklearn.model_selection import train_test_split\n",
        "from keras.models import Sequential\n",
        "from keras.layers import Dense\n",
        "import numpy as np\n",
        "\n",
        "# Carregando o dataset de dígitos\n",
        "data = load_digits()\n",
        "X = data.data\n",
        "y = data.target"
      ]
    },
    {
      "cell_type": "code",
      "execution_count": 3,
      "metadata": {
        "colab": {
          "base_uri": "https://localhost:8080/"
        },
        "id": "VsAImLyNRl4s",
        "outputId": "ef51d2cb-91d5-40c2-faa3-452643b79b48"
      },
      "outputs": [
        {
          "output_type": "execute_result",
          "data": {
            "text/plain": [
              "(1797, 64)"
            ]
          },
          "metadata": {},
          "execution_count": 3
        }
      ],
      "source": [
        "X.shape"
      ]
    },
    {
      "cell_type": "code",
      "execution_count": 4,
      "metadata": {
        "colab": {
          "base_uri": "https://localhost:8080/"
        },
        "id": "w2jdrin7Rl4t",
        "outputId": "0a3aeb9d-097e-4ba5-dc05-08c8a897b644"
      },
      "outputs": [
        {
          "output_type": "execute_result",
          "data": {
            "text/plain": [
              "(1797,)"
            ]
          },
          "metadata": {},
          "execution_count": 4
        }
      ],
      "source": [
        "y.shape"
      ]
    },
    {
      "cell_type": "code",
      "execution_count": 5,
      "metadata": {
        "colab": {
          "base_uri": "https://localhost:8080/"
        },
        "id": "5QLBFH0WRl4t",
        "outputId": "405c580c-e1e0-4594-e933-d5d69919bf8c"
      },
      "outputs": [
        {
          "output_type": "execute_result",
          "data": {
            "text/plain": [
              "array([0, 1, 2, 3, 4, 5, 6, 7, 8, 9])"
            ]
          },
          "metadata": {},
          "execution_count": 5
        }
      ],
      "source": [
        "np.unique(y)"
      ]
    },
    {
      "cell_type": "code",
      "execution_count": 6,
      "metadata": {
        "colab": {
          "base_uri": "https://localhost:8080/"
        },
        "id": "VP7FjxKbRl4t",
        "outputId": "abe91029-54b5-4ef0-b572-dbf479c45ac5"
      },
      "outputs": [
        {
          "output_type": "execute_result",
          "data": {
            "text/plain": [
              "<keras.callbacks.History at 0x7ff7d2aa99f0>"
            ]
          },
          "metadata": {},
          "execution_count": 6
        }
      ],
      "source": [
        "# Dividindo em conjuntos de treinamento e teste\n",
        "X_train, X_test, y_train, y_test = train_test_split(X, y, test_size=0.2, random_state=42)\n",
        "\n",
        "# Criando uma rede neural simples\n",
        "model = Sequential()\n",
        "model.add(Dense(4, input_dim=X_train.shape[1], activation='relu'))\n",
        "model.add(Dense(2, activation='relu'))\n",
        "model.add(Dense(64, activation='relu'))\n",
        "model.add(Dense(10, activation='softmax'))\n",
        "\n",
        "# Compilando e treinando o modelo\n",
        "model.compile(loss='sparse_categorical_crossentropy', optimizer='adam', metrics=['accuracy'])\n",
        "model.fit(X_train, y_train, epochs=10, batch_size=32, verbose=0)"
      ]
    },
    {
      "cell_type": "code",
      "execution_count": 7,
      "metadata": {
        "colab": {
          "base_uri": "https://localhost:8080/"
        },
        "id": "bMqTtwNwRl4t",
        "outputId": "9f549463-3825-46ab-ca32-2ebb82ac0e1b"
      },
      "outputs": [
        {
          "output_type": "stream",
          "name": "stdout",
          "text": [
            "Pesos da primeira camada:\n",
            " [[ 2.35970974e-01  2.22717404e-01 -1.73478425e-02  1.20981961e-01]\n",
            " [-3.03625822e-01  2.76089907e-01 -7.62867108e-02  8.22396129e-02]\n",
            " [ 1.35030508e-01  1.33405775e-01  1.64373428e-01 -1.93287164e-01]\n",
            " [ 7.43474290e-02  1.61012188e-01  2.68446803e-01  1.90331236e-01]\n",
            " [ 3.63064036e-02 -2.41969466e-01  1.58104196e-01 -1.71689793e-01]\n",
            " [-8.13205838e-02 -2.65715867e-01  1.84297502e-01 -4.20588464e-01]\n",
            " [ 2.38132164e-01 -3.19437534e-02  1.15390398e-01 -3.04497659e-01]\n",
            " [-5.32458499e-02 -2.37964123e-01 -3.91666070e-02  5.63903637e-02]\n",
            " [ 1.78005069e-01  1.02853321e-01  9.95696113e-02 -3.78528237e-02]\n",
            " [-6.41883537e-02 -6.10585921e-02  2.70456910e-01  7.57134557e-02]\n",
            " [ 1.42446058e-02 -3.15530628e-01  1.66919351e-01 -2.69839823e-01]\n",
            " [-2.79495716e-01 -1.89650148e-01  3.12255342e-02  7.53245279e-02]\n",
            " [-8.34197402e-02  2.39526510e-01  1.77878425e-01  1.58396140e-01]\n",
            " [ 2.32123256e-01  6.97693527e-02 -1.25013679e-01  2.30162814e-02]\n",
            " [-1.79957002e-01 -2.84295738e-01 -6.25296161e-02 -2.44475260e-01]\n",
            " [-1.30931646e-01 -1.73792783e-02 -2.80471742e-01 -1.45709187e-01]\n",
            " [ 2.71850467e-01  1.17043614e-01  9.98089835e-02  1.22735910e-02]\n",
            " [-2.75909096e-01  2.44654059e-01  2.21821204e-01  1.49223551e-01]\n",
            " [-2.73767292e-01  2.34434560e-01 -5.51465340e-02 -2.24016663e-02]\n",
            " [-2.85974383e-01 -5.02004251e-02  9.99720097e-02  1.91789821e-01]\n",
            " [ 8.10682103e-02 -2.88489282e-01  2.92110723e-02 -2.93258220e-01]\n",
            " [-3.27769250e-01 -3.20176482e-01  7.27436244e-02 -1.78784668e-01]\n",
            " [ 4.40610871e-02 -5.89244217e-02 -5.13668768e-02  2.17988297e-01]\n",
            " [ 2.09821761e-01 -8.08850825e-02 -1.44899815e-01 -5.89850172e-02]\n",
            " [ 2.72716999e-01  2.24833965e-01  2.05733553e-01  1.17624015e-01]\n",
            " [-2.53546029e-01 -3.73831876e-02 -1.73902184e-01  9.12071615e-02]\n",
            " [ 1.88772543e-03 -3.23234379e-01  5.49890883e-02  1.69255257e-01]\n",
            " [-1.23359479e-01  8.15094113e-02  1.68777853e-02 -1.29858851e-01]\n",
            " [-3.58456939e-01  1.12420537e-01 -3.13672006e-01 -3.30545723e-01]\n",
            " [ 2.14457393e-01  1.58061221e-01  1.79350197e-01  1.35598898e-01]\n",
            " [ 1.99419618e-01 -1.79749116e-01 -2.13352904e-01  2.81409115e-01]\n",
            " [-2.45918185e-01 -2.05934048e-04 -3.28749120e-01  6.68798387e-02]\n",
            " [-2.76018679e-02 -2.97781825e-02 -6.37076199e-02 -2.27361500e-01]\n",
            " [ 1.56561196e-01  1.34081528e-01  8.85455087e-02  2.57583946e-01]\n",
            " [-1.49593711e-01 -9.25976709e-02 -9.03703347e-02  3.11538279e-01]\n",
            " [-9.50745400e-03 -3.06704253e-01 -3.39244992e-01 -2.04628587e-01]\n",
            " [-2.64383614e-01  4.66333516e-02 -3.37619185e-01 -1.91082343e-01]\n",
            " [-1.47384435e-01 -1.27423853e-01  9.99485478e-02  8.33391026e-02]\n",
            " [ 1.38064757e-01 -3.28682736e-02  8.62070993e-02  4.58347440e-01]\n",
            " [ 2.27867365e-01 -2.71903515e-01 -3.86185646e-02  2.38503039e-01]\n",
            " [-1.20250940e-01  6.35108054e-02 -8.27605650e-02  4.79836278e-02]\n",
            " [-3.64058353e-02 -2.58990377e-01 -1.93824340e-02  2.79447258e-01]\n",
            " [-4.30160426e-02 -3.21332335e-01 -2.75255352e-01  2.70510525e-01]\n",
            " [ 9.76983681e-02  1.82926822e-02 -3.87582302e-01 -1.29942089e-01]\n",
            " [-2.30346516e-01  2.32570007e-01 -1.32476076e-01  8.83317888e-02]\n",
            " [-2.14752093e-01 -1.18156135e-01 -9.78820249e-02 -5.26027083e-02]\n",
            " [-1.43854856e-01  7.86160082e-02 -1.79985255e-01  9.05763656e-02]\n",
            " [ 1.37605965e-01 -1.69844687e-01 -2.57940769e-01  1.28739089e-01]\n",
            " [-8.16848874e-03 -2.16508508e-02 -1.52406842e-01 -2.58756876e-01]\n",
            " [-1.93542048e-01 -1.64209470e-01  3.08574606e-02 -1.23410970e-01]\n",
            " [-2.27716789e-01  2.45454252e-01  1.86797082e-01 -9.26044136e-02]\n",
            " [ 1.87308177e-01 -2.25106910e-01 -5.82906343e-02  5.65996245e-02]\n",
            " [-1.29954144e-03  7.68013149e-02  2.33517557e-01  1.48565292e-01]\n",
            " [ 1.13318842e-04 -6.33330792e-02  1.74491495e-01  1.65668905e-01]\n",
            " [-1.83449298e-01  5.54152019e-02  2.12750837e-01 -1.07029468e-01]\n",
            " [ 2.71123350e-01  1.61032960e-01  3.99800129e-02  2.06497572e-02]\n",
            " [-2.46641070e-01 -1.42385587e-01  2.51849562e-01  1.47324145e-01]\n",
            " [ 2.08935738e-01  1.93611965e-01 -7.39693046e-02 -2.61925936e-01]\n",
            " [ 2.42136046e-01  1.50686741e-01  2.66660452e-01 -5.09675518e-02]\n",
            " [-1.72183171e-01  1.14122525e-01 -5.70862405e-02  1.73593715e-01]\n",
            " [-7.20745698e-02 -4.26813401e-02 -1.60292357e-01  8.40776637e-02]\n",
            " [-2.20227137e-01  6.42249808e-02  1.10553063e-01 -7.90714249e-02]\n",
            " [-1.54701754e-01 -8.76550451e-02  1.58387929e-01 -1.34031489e-01]\n",
            " [-1.16280437e-01 -2.17490047e-01 -2.54540414e-01 -2.46305838e-02]]\n"
          ]
        }
      ],
      "source": [
        "# Mostrando alguns parâmetros (pesos) da primeira camada\n",
        "weights_first_layer = model.layers[0].get_weights()[0]\n",
        "print(\"Pesos da primeira camada:\\n\", weights_first_layer)"
      ]
    },
    {
      "cell_type": "code",
      "execution_count": 8,
      "metadata": {
        "colab": {
          "base_uri": "https://localhost:8080/"
        },
        "id": "MkrM8VfXRl4t",
        "outputId": "d276e9f2-9918-4178-b45c-c0b261af84df"
      },
      "outputs": [
        {
          "output_type": "execute_result",
          "data": {
            "text/plain": [
              "(64, 4)"
            ]
          },
          "metadata": {},
          "execution_count": 8
        }
      ],
      "source": [
        "weights_first_layer.shape"
      ]
    },
    {
      "cell_type": "markdown",
      "metadata": {
        "id": "b-G179JuRl4u"
      },
      "source": [
        "### Hiperparâmetros:\n",
        "O que são? São configurações que definem aspectos do treinamento e da estrutura do modelo. Não são aprendidos nos dados, mas são configurados antes do treinamento.\n",
        "\n",
        "Exemplo: Em redes neurais, a taxa de aprendizado, o número de camadas, o número de neurônios em uma camada, e a função de ativação são todos hiperparâmetros."
      ]
    },
    {
      "cell_type": "code",
      "execution_count": 9,
      "metadata": {
        "colab": {
          "base_uri": "https://localhost:8080/"
        },
        "id": "h-K8y0_eRl4u",
        "outputId": "b334be45-1baf-4c57-ea17-42233e4a2587"
      },
      "outputs": [
        {
          "output_type": "execute_result",
          "data": {
            "text/plain": [
              "<keras.callbacks.History at 0x7ff7d2aa84f0>"
            ]
          },
          "metadata": {},
          "execution_count": 9
        }
      ],
      "source": [
        "# Definindo hiperparâmetros para uma rede neural\n",
        "learning_rate = 0.001\n",
        "batch_size = 32\n",
        "epochs = 50\n",
        "number_of_neurons_layer1 = 128\n",
        "number_of_neurons_layer2 = 64\n",
        "number_of_neurons_layer3 = 128\n",
        "activation_function = 'relu'\n",
        "\n",
        "# Criando um modelo usando os hiperparâmetros\n",
        "model = Sequential()\n",
        "model.add(Dense(number_of_neurons_layer1, input_dim=X_train.shape[1], activation=activation_function))\n",
        "model.add(Dense(number_of_neurons_layer2, activation=activation_function))\n",
        "model.add(Dense(number_of_neurons_layer3, activation=activation_function))\n",
        "model.add(Dense(10, activation='softmax'))\n",
        "\n",
        "# Treinando o modelo usando os hiperparâmetros\n",
        "model.compile(loss='sparse_categorical_crossentropy', optimizer='adam', metrics=['accuracy'])\n",
        "model.fit(X_train, y_train, epochs=epochs, batch_size=batch_size, verbose=0)\n"
      ]
    },
    {
      "cell_type": "markdown",
      "metadata": {
        "id": "ARTt1te7Rl4u"
      },
      "source": [
        "`learning_rate` = 0.001: Taxa de aprendizado é um hiperparâmetro que define o tamanho do passo que será usado no ajuste dos pesos durante o treinamento. Embora seja definido aqui, note que ele não está sendo usado diretamente no código fornecido, pois o otimizador 'adam' tem sua própria taxa de aprendizado adaptativa.\n",
        "\n",
        "`batch_size` = 32: Tamanho do lote (ou batch) é a quantidade de amostras de dados que serão usadas para atualizar os pesos de uma única vez. Esse é um hiperparâmetro importante quando você está usando um método de otimização estocástico ou mini-batch.\n",
        "\n",
        "`epochs` = 50: Número de épocas indica quantas vezes o algoritmo verá o conjunto de treinamento completo. Se você tem, digamos, 1000 amostras de treinamento e o batch_size é 100, então uma época terá 10 atualizações (passos) para o modelo.\n",
        "\n",
        "`number_of_neurons_layer1` = 128 e `number_of_neurons_layer2` = 64 e `number_of_neurons_layer3` = 128: Estes definem o número de neurônios nas camadas ocultas da rede neural. A arquitetura e a profundidade da rede (número de camadas e neurônios em cada camada) são hiperparâmetros.\n",
        "\n",
        "`activation_function` = 'relu': Função de ativação que é usada nos neurônios da rede. Dependendo da função escolhida, a rede pode aprender diferentes tipos de representações. O 'relu' (Rectified Linear Unit) é um dos mais populares atualmente.\n",
        "\n",
        "`loss` = 'sparse_categorical_crossentropy': Define a função de perda, que é a métrica que a rede tentará minimizar durante o treinamento.\n",
        "\n",
        "`optimizer` = 'adam': Define o otimizador usado, que é o algoritmo de otimização. Existem vários otimizadores e cada um tem seus próprios hiperparâmetros internos."
      ]
    },
    {
      "cell_type": "markdown",
      "metadata": {
        "id": "txiqtmQFRl4u"
      },
      "source": [
        "## Conclusão:\n",
        "\n",
        "``Parâmetros`` são intrínsecos ao modelo e são ajustados durante o treinamento.\n",
        "\n",
        "``Hiperparâmetros`` definem como o treinamento é realizado e a estrutura do modelo, sendo definidos externamente e não ajustados automaticamente pelo modelo durante o treinamento."
      ]
    },
    {
      "cell_type": "markdown",
      "metadata": {
        "id": "kvOWnQB4Rl4u"
      },
      "source": [
        "## A Crucialidade da Otimização de Hiperparâmetros\n",
        "Hiperparâmetros adequados podem fazer a diferença entre um modelo médio e um modelo altamente eficiente. A otimização de hiperparâmetros:\n",
        "\n",
        "- Melhora o desempenho do modelo no conjunto de dados.\n",
        "- Pode ajudar a prevenir overfitting ou underfitting.\n",
        "- Pode acelerar o treinamento do modelo ou torná-lo mais eficaz.\n",
        "\n",
        "Encontrar os hiperparâmetros ideais muitas vezes é um desafio. Se pegarmos, por exemplo, uma rede neural, a taxa de aprendizado, o tamanho do batch, a quantidade de camadas e unidades em cada camada, entre outros, são hiperparâmetros que precisamos definir antes do treinamento. A combinação certa desses hiperparâmetros pode variar amplamente de um conjunto de dados para outro, e a otimização automática desses hiperparâmetros é onde podemos extrair o máximo do potencial de um modelo."
      ]
    },
    {
      "cell_type": "markdown",
      "metadata": {
        "id": "3yAEUYI0Rl4u"
      },
      "source": [
        "# Métodos de Otimização de Hiperparâmetros\n",
        "Após a introdução sobre a importância dos hiperparâmetros, agora nos deparamos com um questionamento: \"Como podemos encontrar o melhor conjunto de hiperparâmetros para nosso modelo?\". Existem diversos métodos que auxiliam nessa busca, e hoje, iremos explorar três dos mais populares."
      ]
    },
    {
      "cell_type": "markdown",
      "metadata": {
        "id": "UPyj_mUdRl4v"
      },
      "source": [
        "## Grid Search\n",
        "O Grid Search, ou Pesquisa em Grade, é um dos métodos mais simples e amplamente utilizados para otimização de hiperparâmetros.\n",
        "\n",
        "O método Grid Search, ou busca em grade, consiste em testar manualmente cada combinação possível de hiperparâmetros. Por exemplo, se tivermos dois hiperparâmetros e quisermos testar 5 valores diferentes para cada um, realizaríamos um total de 25 treinamentos (5x5).\n",
        "\n",
        "``Vantagens``:\n",
        "\n",
        "É determinístico; você sabe exatamente quais combinações serão testadas.\n",
        "Pode ser paralelizado facilmente.\n",
        "\n",
        "``Desvantagens``:\n",
        "\n",
        "Pode ser muito demorado, especialmente quando o espaço de busca é grande.\n",
        "Não é eficiente, pois testa combinações que podem ser consideradas subótimas com base em resultados anteriores."
      ]
    },
    {
      "cell_type": "code",
      "execution_count": 10,
      "metadata": {
        "id": "a0ts1xjrRl4v"
      },
      "outputs": [],
      "source": [
        "from sklearn.metrics import accuracy_score, precision_score, recall_score, f1_score, confusion_matrix\n",
        "import seaborn as sns\n",
        "import matplotlib.pyplot as plt\n",
        "\n",
        "def metricas_classificacao(y_real, y_pred):\n",
        "    # Calcular métricas\n",
        "    metrics = {\n",
        "        \"Acurácia\": accuracy_score(y_real, y_pred),\n",
        "        \"Precisão (macro)\": precision_score(y_real, y_pred, average='macro'),\n",
        "        \"Recall (macro)\": recall_score(y_real, y_pred, average='macro'),\n",
        "        \"F1-Score (macro)\": f1_score(y_real, y_pred, average='macro')\n",
        "    }\n",
        "\n",
        "    # Printar métricas\n",
        "    for key, value in metrics.items():\n",
        "        print(f\"{key}: {value}\")\n",
        "\n",
        "    # Calcular a Matriz de Confusão\n",
        "    confusion_mat = confusion_matrix(y_real, y_pred)\n",
        "\n",
        "    # Printar Matriz de Confusão\n",
        "    print(\"Matriz de Confusão:\")\n",
        "    sns.heatmap(confusion_mat, annot=True, cmap='YlGnBu', fmt='g')\n",
        "    plt.xlabel('Previsto')\n",
        "    plt.ylabel('Real')\n",
        "    plt.show()\n",
        "\n",
        "    return metrics\n"
      ]
    },
    {
      "cell_type": "code",
      "execution_count": 11,
      "metadata": {
        "id": "KVX50tqbRl4v"
      },
      "outputs": [],
      "source": [
        "# Importando as bibliotecas necessárias para construir o modelo da rede neural\n",
        "from keras.models import Sequential\n",
        "from keras.layers import Dense\n",
        "\n",
        "# Função que cria e retorna um modelo de rede neural\n",
        "def create_model(neurons1=128, neurons2=64, activation_function='relu'):\n",
        "\n",
        "    # Inicializando o modelo sequencial\n",
        "    model = Sequential()\n",
        "\n",
        "    # Adicionando a primeira camada oculta com o número de neurônios especificado (neurons1)\n",
        "    # 'input_dim' especifica o número de características de entrada\n",
        "    model.add(Dense(neurons1, input_dim=X_train.shape[1], activation=activation_function))\n",
        "\n",
        "    # Adicionando a segunda camada oculta com o número de neurônios especificado (neurons2)\n",
        "    model.add(Dense(neurons2, activation=activation_function))\n",
        "\n",
        "    # Adicionando a terceira camada oculta com 128 neurônios\n",
        "    model.add(Dense(128, activation=activation_function))\n",
        "\n",
        "    # Adicionando a camada de saída com 10 neurônios (para um problema de classificação de 10 classes)\n",
        "    model.add(Dense(10, activation='softmax'))\n",
        "\n",
        "    # Compilando o modelo - especificando o otimizador, a função de perda e a métrica de avaliação\n",
        "    model.compile(optimizer='adam', loss='sparse_categorical_crossentropy', metrics=['accuracy'])\n",
        "\n",
        "    return model"
      ]
    },
    {
      "cell_type": "code",
      "source": [
        "!pip install keras==2.12"
      ],
      "metadata": {
        "colab": {
          "base_uri": "https://localhost:8080/"
        },
        "id": "blrw7K8aIK37",
        "outputId": "2f40d9c5-9eac-4961-86cf-7c227c4371f5"
      },
      "execution_count": 12,
      "outputs": [
        {
          "output_type": "stream",
          "name": "stdout",
          "text": [
            "Requirement already satisfied: keras==2.12 in /usr/local/lib/python3.10/dist-packages (2.12.0)\n"
          ]
        }
      ]
    },
    {
      "cell_type": "code",
      "execution_count": 13,
      "metadata": {
        "colab": {
          "base_uri": "https://localhost:8080/"
        },
        "id": "aGRymjvoRl4v",
        "outputId": "36f148a2-85c8-40ce-c15b-f2e5f445f911"
      },
      "outputs": [
        {
          "output_type": "stream",
          "name": "stderr",
          "text": [
            "<ipython-input-13-0125064d99a6>:7: DeprecationWarning: KerasClassifier is deprecated, use Sci-Keras (https://github.com/adriangb/scikeras) instead. See https://www.adriangb.com/scikeras/stable/migration.html for help migrating.\n",
            "  model_for_grid = KerasClassifier(build_fn=create_model, epochs=20, verbose=0)\n",
            "/usr/local/lib/python3.10/dist-packages/joblib/externals/loky/backend/fork_exec.py:38: RuntimeWarning: os.fork() was called. os.fork() is incompatible with multithreaded code, and JAX is multithreaded, so this will likely lead to a deadlock.\n",
            "  pid = os.fork()\n"
          ]
        },
        {
          "output_type": "stream",
          "name": "stdout",
          "text": [
            "Melhores parâmetros: {'activation_function': 'tanh', 'neurons1': 256, 'neurons2': 128}\n"
          ]
        }
      ],
      "source": [
        "# Importando o KerasClassifier que permite usar modelos Keras com scikit-learn\n",
        "from keras.wrappers.scikit_learn import KerasClassifier\n",
        "# Importando GridSearchCV para otimização de hiperparâmetros\n",
        "from sklearn.model_selection import GridSearchCV\n",
        "\n",
        "# Criando uma instância do KerasClassifier com a função de criação do modelo e especificando 20 épocas\n",
        "model_for_grid = KerasClassifier(build_fn=create_model, epochs=20, verbose=0)\n",
        "\n",
        "# Definindo a grade de hiperparâmetros que queremos testar\n",
        "param_grid = {\n",
        "    'neurons1': [64, 128, 256],                # diferentes quantidades de neurônios para a primeira camada\n",
        "    'neurons2': [64, 128, 256],                # diferentes quantidades de neurônios para a segunda camada\n",
        "    'activation_function': ['relu', 'tanh']    # diferentes funções de ativação\n",
        "}\n",
        "\n",
        "# Configurando o GridSearchCV com o modelo, a grade de parâmetros, e outras opções\n",
        "grid = GridSearchCV(estimator=model_for_grid, param_grid=param_grid, n_jobs=-1, cv=3)\n",
        "\n",
        "# Iniciando a busca pelos melhores hiperparâmetros usando o conjunto de treinamento\n",
        "grid_result = grid.fit(X_train, y_train)\n",
        "\n",
        "# Imprimindo os melhores hiperparâmetros encontrados\n",
        "print(f\"Melhores parâmetros: {grid_result.best_params_}\")"
      ]
    },
    {
      "cell_type": "code",
      "execution_count": 14,
      "metadata": {
        "colab": {
          "base_uri": "https://localhost:8080/"
        },
        "id": "beKQlkjERl4v",
        "outputId": "9a14107c-7bf4-4ba4-cfd9-05e820a6c733"
      },
      "outputs": [
        {
          "output_type": "execute_result",
          "data": {
            "text/plain": [
              "360"
            ]
          },
          "metadata": {},
          "execution_count": 14
        }
      ],
      "source": [
        "3 * 3 * 2 * 20"
      ]
    },
    {
      "cell_type": "code",
      "execution_count": 15,
      "metadata": {
        "colab": {
          "base_uri": "https://localhost:8080/",
          "height": 553
        },
        "id": "918GelTBRl4v",
        "outputId": "0ddd1ad2-514f-4f33-e20a-98ae6f85547a"
      },
      "outputs": [
        {
          "output_type": "stream",
          "name": "stdout",
          "text": [
            "12/12 [==============================] - 0s 4ms/step\n",
            "Acurácia: 0.975\n",
            "Precisão (macro): 0.9756743790872111\n",
            "Recall (macro): 0.973061416055784\n",
            "F1-Score (macro): 0.974241407303006\n",
            "Matriz de Confusão:\n"
          ]
        },
        {
          "output_type": "display_data",
          "data": {
            "text/plain": [
              "<Figure size 640x480 with 2 Axes>"
            ],
            "image/png": "[encoded data removed]"
          },
          "metadata": {}
        }
      ],
      "source": [
        "best_model = create_model(neurons1=128, neurons2=128, activation_function='relu')\n",
        "best_model.fit(X_train, y_train, epochs=20, verbose = 0)\n",
        "y_pred = np.argmax(best_model.predict(X_test), axis=1)\n",
        "metricas = metricas_classificacao(y_test, y_pred)"
      ]
    },
    {
      "cell_type": "code",
      "execution_count": 16,
      "metadata": {
        "colab": {
          "base_uri": "https://localhost:8080/",
          "height": 553
        },
        "id": "2Cdj4WeuRl4w",
        "outputId": "4f134fa0-dfc3-46db-daba-a987c9ba1909"
      },
      "outputs": [
        {
          "output_type": "stream",
          "name": "stdout",
          "text": [
            "12/12 [==============================] - 0s 5ms/step\n",
            "Acurácia: 0.9777777777777777\n",
            "Precisão (macro): 0.976477528020283\n",
            "Recall (macro): 0.976156654151022\n",
            "F1-Score (macro): 0.9762163682295044\n",
            "Matriz de Confusão:\n"
          ]
        },
        {
          "output_type": "display_data",
          "data": {
            "text/plain": [
              "<Figure size 640x480 with 2 Axes>"
            ],
            "image/png": "[encoded data removed]"
          },
          "metadata": {}
        }
      ],
      "source": [
        "model = create_model(neurons1=64, neurons2=64, activation_function='relu')\n",
        "model.fit(X_train, y_train, epochs=20, verbose = 0)\n",
        "y_pred = np.argmax(model.predict(X_test), axis=1)\n",
        "metricas = metricas_classificacao(y_test, y_pred)"
      ]
    },
    {
      "cell_type": "markdown",
      "metadata": {
        "id": "LGoMcZ74Rl4w"
      },
      "source": [
        "## Random Search\n",
        "\n",
        "Como difere do Grid Search:\n",
        "\n",
        "Em vez de testar todas as combinações possíveis, o Random Search testa uma quantidade determinada de combinações aleatórias de hiperparâmetros. Em nosso exemplo anterior de 3x3x2 combinações, em vez de testar todas as 18 combinações, podemos testar, digamos, 10 combinações aleatórias. Isso pode ser mais eficiente quando se tem um espaço de pesquisa muito grande."
      ]
    },
    {
      "cell_type": "code",
      "execution_count": 17,
      "metadata": {
        "id": "JZtslYFcRl4w",
        "colab": {
          "base_uri": "https://localhost:8080/"
        },
        "outputId": "cdf133e5-7db8-4852-e4a1-8a24f56717a3"
      },
      "outputs": [
        {
          "output_type": "stream",
          "name": "stderr",
          "text": [
            "<ipython-input-17-f04218285d19>:10: DeprecationWarning: KerasClassifier is deprecated, use Sci-Keras (https://github.com/adriangb/scikeras) instead. See https://www.adriangb.com/scikeras/stable/migration.html for help migrating.\n",
            "  model_for_grid = KerasClassifier(build_fn=create_model, epochs=20, verbose=0)\n",
            "/usr/local/lib/python3.10/dist-packages/joblib/externals/loky/process_executor.py:752: UserWarning: A worker stopped while some jobs were given to the executor. This can be caused by a too short worker timeout or by a memory leak.\n",
            "  warnings.warn(\n",
            "/usr/local/lib/python3.10/dist-packages/joblib/externals/loky/backend/fork_exec.py:38: RuntimeWarning: os.fork() was called. os.fork() is incompatible with multithreaded code, and JAX is multithreaded, so this will likely lead to a deadlock.\n",
            "  pid = os.fork()\n"
          ]
        },
        {
          "output_type": "stream",
          "name": "stdout",
          "text": [
            "Melhores parâmetros usando RandomizedSearchCV: {'neurons2': 64, 'neurons1': 512, 'activation_function': 'relu'}\n"
          ]
        }
      ],
      "source": [
        "from sklearn.model_selection import RandomizedSearchCV\n",
        "\n",
        "# Definindo o espaço de hiperparâmetros\n",
        "param_dist = {\n",
        "    'neurons1': [64, 128, 256, 512],\n",
        "    'neurons2': [64, 128, 256, 512],\n",
        "    'activation_function': ['relu', 'tanh', 'softmax']\n",
        "}\n",
        "\n",
        "model_for_grid = KerasClassifier(build_fn=create_model, epochs=20, verbose=0)\n",
        "\n",
        "# Configurando o RandomizedSearchCV com 10 iterações\n",
        "random_search = RandomizedSearchCV(estimator=model_for_grid, param_distributions=param_dist, n_iter=10, n_jobs=-1, cv=3)\n",
        "\n",
        "# Iniciando a busca pelos melhores hiperparâmetros usando o conjunto de treinamento\n",
        "random_result = random_search.fit(X_train, y_train)\n",
        "\n",
        "# Imprimindo os melhores hiperparâmetros encontrados\n",
        "print(f\"Melhores parâmetros usando RandomizedSearchCV: {random_result.best_params_}\")\n"
      ]
    },
    {
      "cell_type": "markdown",
      "metadata": {
        "id": "EMG-2JNWRl4w"
      },
      "source": [
        "Ao invés de testarmos 4x4x3 = 48 combinações , testamos 10 combinações aleatórias"
      ]
    },
    {
      "cell_type": "code",
      "execution_count": 18,
      "metadata": {
        "id": "2unb-X-8Rl4w",
        "colab": {
          "base_uri": "https://localhost:8080/",
          "height": 553
        },
        "outputId": "70cc51c3-43fb-4598-fd3f-54ba2711b696"
      },
      "outputs": [
        {
          "output_type": "stream",
          "name": "stdout",
          "text": [
            "12/12 [==============================] - 0s 2ms/step\n",
            "Acurácia: 0.9805555555555555\n",
            "Precisão (macro): 0.982681475029036\n",
            "Recall (macro): 0.981171851719411\n",
            "F1-Score (macro): 0.9818575875842177\n",
            "Matriz de Confusão:\n"
          ]
        },
        {
          "output_type": "display_data",
          "data": {
            "text/plain": [
              "<Figure size 640x480 with 2 Axes>"
            ],
            "image/png": "[encoded data removed]"
          },
          "metadata": {}
        }
      ],
      "source": [
        "model = create_model(neurons1=128, neurons2=256, activation_function='relu')\n",
        "model.fit(X_train, y_train, epochs=20, verbose = 0)\n",
        "y_pred = np.argmax(model.predict(X_test), axis=1)\n",
        "metricas = metricas_classificacao(y_test, y_pred)"
      ]
    },
    {
      "cell_type": "markdown",
      "metadata": {
        "id": "sSsb8tdlRl4w"
      },
      "source": [
        "## Otimização Bayesiana com BayesianOptimization\n",
        "A otimização bayesiana é uma técnica probabilística para encontrar o mínimo de funções. Diferente do Random Search, que faz uma busca aleatória pelo espaço de hiperparâmetros, a otimização bayesiana tenta racionalizar a melhor área do espaço a ser pesquisada com base em avaliações anteriores. Ela usa um processo gaussiano para fazer isso.\n",
        "\n",
        "### Funcionamento Básico:\n",
        "Modelo probabilístico: Um modelo probabilístico é construído com base nas funções e seus parâmetros avaliados anteriormente. Esse modelo é frequentemente um processo gaussiano.\n",
        "\n",
        "Escolha do próximo ponto: Com base no modelo atual, escolhe-se o próximo ponto para avaliar. Isso não é apenas baseado em áreas onde a performance é boa, mas também onde a incerteza é alta. Assim, equilibra a exploração de novas áreas e a exploração de áreas conhecidas.\n",
        "\n",
        "### Aplicação em Machine Learning:\n",
        "Para otimização de hiperparâmetros, a função que queremos minimizar (ou maximizar) é geralmente a métrica de erro (ou acurácia) do nosso modelo. Por exemplo, se estamos treinando uma rede neural, a função tomará hiperparâmetros como entrada (como taxa de aprendizado, número de neurônios, etc.) e retornará o erro no conjunto de validação."
      ]
    },
    {
      "cell_type": "code",
      "execution_count": 19,
      "metadata": {
        "id": "oZihAgC_Rl4w",
        "colab": {
          "base_uri": "https://localhost:8080/"
        },
        "outputId": "7622982b-cfda-423b-d83d-2c07ed1be750"
      },
      "outputs": [
        {
          "output_type": "stream",
          "name": "stdout",
          "text": [
            "Collecting bayesian-optimization\n",
            "  Downloading bayesian_optimization-1.4.3-py3-none-any.whl (18 kB)\n",
            "Requirement already satisfied: numpy>=1.9.0 in /usr/local/lib/python3.10/dist-packages (from bayesian-optimization) (1.25.2)\n",
            "Requirement already satisfied: scipy>=1.0.0 in /usr/local/lib/python3.10/dist-packages (from bayesian-optimization) (1.11.4)\n",
            "Requirement already satisfied: scikit-learn>=0.18.0 in /usr/local/lib/python3.10/dist-packages (from bayesian-optimization) (1.2.2)\n",
            "Collecting colorama>=0.4.6 (from bayesian-optimization)\n",
            "  Downloading colorama-0.4.6-py2.py3-none-any.whl (25 kB)\n",
            "Requirement already satisfied: joblib>=1.1.1 in /usr/local/lib/python3.10/dist-packages (from scikit-learn>=0.18.0->bayesian-optimization) (1.4.2)\n",
            "Requirement already satisfied: threadpoolctl>=2.0.0 in /usr/local/lib/python3.10/dist-packages (from scikit-learn>=0.18.0->bayesian-optimization) (3.5.0)\n",
            "Installing collected packages: colorama, bayesian-optimization\n",
            "Successfully installed bayesian-optimization-1.4.3 colorama-0.4.6\n"
          ]
        }
      ],
      "source": [
        "!pip install bayesian-optimization"
      ]
    },
    {
      "cell_type": "markdown",
      "metadata": {
        "id": "lDNheFluRl4w"
      },
      "source": [
        "``Função Objetivo``: Precisamos definir a função que queremos otimizar. No nosso caso, essa função irá:\n",
        "- Receber hiperparâmetros como entrada.\n",
        "- Construir e treinar um modelo usando esses hiperparâmetros.\n",
        "- Retornar a métrica de erro (ou acurácia).\n",
        "\n",
        "``Limites dos Hiperparâmetros``: A otimização bayesiana requer que os hiperparâmetros tenham limites. Se for um hiperparâmetro contínuo (como a taxa de aprendizado), simplesmente definimos um intervalo. Para hiperparâmetros categóricos (como funções de ativação), usamos um truque: mapeamos cada categoria para um número (por exemplo, 'relu' para 0, 'tanh' para 1) e depois usamos esse índice como hiperparâmetro contínuo. Depois, na função objetivo, mapeamos o índice de volta à sua categoria original.\n",
        "\n",
        "``Otimização``: Com a função objetivo e os limites definidos, podemos executar a otimização. Decidimos quantos pontos iniciais queremos (pontos escolhidos aleatoriamente antes de começar a otimização bayesiana) e quantas iterações de otimização queremos."
      ]
    },
    {
      "cell_type": "code",
      "execution_count": 20,
      "metadata": {
        "id": "HnqFbfrQRl4x",
        "colab": {
          "base_uri": "https://localhost:8080/"
        },
        "outputId": "fabd8cac-18ad-4c7a-cbe1-1bf3b093a44d"
      },
      "outputs": [
        {
          "output_type": "stream",
          "name": "stdout",
          "text": [
            "|   iter    |  target   | activa... | neurons1  | neurons2  |\n",
            "-------------------------------------------------------------\n",
            "| \u001b[0m1        \u001b[0m | \u001b[0m0.9688   \u001b[0m | \u001b[0m0.417    \u001b[0m | \u001b[0m202.3    \u001b[0m | \u001b[0m64.02    \u001b[0m |\n",
            "| \u001b[0m2        \u001b[0m | \u001b[0m0.9618   \u001b[0m | \u001b[0m0.3023   \u001b[0m | \u001b[0m92.18    \u001b[0m | \u001b[0m81.73    \u001b[0m |\n",
            "| \u001b[95m3        \u001b[0m | \u001b[95m0.9792   \u001b[0m | \u001b[95m0.1863   \u001b[0m | \u001b[95m130.3    \u001b[0m | \u001b[95m140.2    \u001b[0m |\n",
            "| \u001b[0m4        \u001b[0m | \u001b[0m0.9653   \u001b[0m | \u001b[0m0.5388   \u001b[0m | \u001b[0m144.5    \u001b[0m | \u001b[0m195.6    \u001b[0m |\n",
            "| \u001b[0m5        \u001b[0m | \u001b[0m0.9722   \u001b[0m | \u001b[0m0.2045   \u001b[0m | \u001b[0m232.6    \u001b[0m | \u001b[0m69.26    \u001b[0m |\n",
            "| \u001b[0m6        \u001b[0m | \u001b[0m0.9792   \u001b[0m | \u001b[0m0.3111   \u001b[0m | \u001b[0m132.4    \u001b[0m | \u001b[0m138.6    \u001b[0m |\n",
            "| \u001b[0m7        \u001b[0m | \u001b[0m0.9722   \u001b[0m | \u001b[0m0.2066   \u001b[0m | \u001b[0m176.0    \u001b[0m | \u001b[0m136.0    \u001b[0m |\n",
            "| \u001b[0m8        \u001b[0m | \u001b[0m0.9653   \u001b[0m | \u001b[0m0.2749   \u001b[0m | \u001b[0m87.32    \u001b[0m | \u001b[0m155.3    \u001b[0m |\n",
            "| \u001b[0m9        \u001b[0m | \u001b[0m0.9757   \u001b[0m | \u001b[0m0.0      \u001b[0m | \u001b[0m144.7    \u001b[0m | \u001b[0m153.4    \u001b[0m |\n",
            "| \u001b[0m10       \u001b[0m | \u001b[0m0.9757   \u001b[0m | \u001b[0m0.151    \u001b[0m | \u001b[0m255.4    \u001b[0m | \u001b[0m128.3    \u001b[0m |\n",
            "| \u001b[0m11       \u001b[0m | \u001b[0m0.9688   \u001b[0m | \u001b[0m0.4735   \u001b[0m | \u001b[0m255.2    \u001b[0m | \u001b[0m172.3    \u001b[0m |\n",
            "| \u001b[0m12       \u001b[0m | \u001b[0m0.9757   \u001b[0m | \u001b[0m0.4475   \u001b[0m | \u001b[0m255.6    \u001b[0m | \u001b[0m97.23    \u001b[0m |\n",
            "| \u001b[95m13       \u001b[0m | \u001b[95m0.9826   \u001b[0m | \u001b[95m0.1496   \u001b[0m | \u001b[95m252.8    \u001b[0m | \u001b[95m256.0    \u001b[0m |\n",
            "| \u001b[95m14       \u001b[0m | \u001b[95m0.9861   \u001b[0m | \u001b[95m0.0      \u001b[0m | \u001b[95m222.9    \u001b[0m | \u001b[95m256.0    \u001b[0m |\n",
            "| \u001b[0m15       \u001b[0m | \u001b[0m0.9792   \u001b[0m | \u001b[0m0.2373   \u001b[0m | \u001b[0m194.3    \u001b[0m | \u001b[0m255.6    \u001b[0m |\n",
            "=============================================================\n",
            "Melhores parâmetros usando otimização bayesiana: {'activation_index': 0.0, 'neurons1': 222.94866127834283, 'neurons2': 256.0}\n"
          ]
        }
      ],
      "source": [
        "# Importando a biblioteca necessária\n",
        "from bayes_opt import BayesianOptimization\n",
        "\n",
        "# Definindo a função objetivo que queremos otimizar.\n",
        "# Esta função treina um modelo com hiperparâmetros fornecidos e retorna a acurácia de validação.\n",
        "def objective_function(neurons1, neurons2, activation_index):\n",
        "\n",
        "    # Mapeia os índices para suas respectivas funções de ativação.\n",
        "    activation_functions = ['relu', 'tanh']\n",
        "    activation_function = activation_functions[int(activation_index)]\n",
        "\n",
        "    # Cria e compila o modelo usando os hiperparâmetros fornecidos.\n",
        "    model = create_model(int(neurons1), int(neurons2), activation_function)\n",
        "\n",
        "    # Treina o modelo e obtém o histórico de treinamento.\n",
        "    history = model.fit(X_train, y_train, epochs=20, verbose=0, validation_split=0.2)\n",
        "\n",
        "    # Obtém a acurácia de validação da última época.\n",
        "    val_accuracy = history.history['val_accuracy'][-1]\n",
        "\n",
        "    return val_accuracy\n",
        "\n",
        "# Definindo os limites dos hiperparâmetros para a otimização bayesiana.\n",
        "# Os hiperparâmetros contínuos têm intervalos definidos (por exemplo, neurons1 entre 64 e 256).\n",
        "# Para hiperparâmetros categóricos, usamos índices (por exemplo, activation_index entre 0 e 1).\n",
        "pbounds = {\n",
        "    'neurons1': (64, 256),\n",
        "    'neurons2': (64, 256),\n",
        "    'activation_index': (0, 1)\n",
        "}\n",
        "\n",
        "# Inicializa o otimizador bayesiano com a função objetivo e os limites dos hiperparâmetros.\n",
        "optimizer = BayesianOptimization(\n",
        "    f=objective_function,     # Função objetivo definida anteriormente.\n",
        "    pbounds=pbounds,          # Limites dos hiperparâmetros.\n",
        "    random_state=1            # Semente para reprodutibilidade.\n",
        ")\n",
        "\n",
        "# Executa a otimização bayesiana.\n",
        "# 'init_points' define quantos pontos iniciais aleatórios serão testados antes da otimização começar.\n",
        "# 'n_iter' define quantas iterações de otimização serão executadas.\n",
        "optimizer.maximize(init_points=5, n_iter=10)\n",
        "\n",
        "# Exibe os melhores hiperparâmetros encontrados.\n",
        "print(f\"Melhores parâmetros usando otimização bayesiana: {optimizer.max['params']}\")"
      ]
    },
    {
      "cell_type": "markdown",
      "metadata": {
        "id": "-J6auUEURl4x"
      },
      "source": [
        "\n",
        "\"'activation_index': 0.48873272287485325:\n",
        "\n",
        "Este valor contínuo representa a função de ativação selecionada para o modelo. Na implementação, duas funções de ativação ('relu' e 'tanh') foram mapeadas para os índices 0 e 1, respectivamente.\n",
        "O valor 0.4887 é mais próximo de 0 do que de 1. Portanto, ao arredondar, o índice 0 é selecionado, correspondendo à função de ativação 'relu'.\n",
        "\n",
        "'neurons1': 225.5063053565966:\n",
        "\n",
        "Representa o número ideal de neurônios na primeira camada oculta identificado pelo otimizador bayesiano.\n",
        "Em uma implementação prática, esse número seria arredondado para 226 neurônios na primeira camada oculta.\n",
        "\n",
        "'neurons2': 251.9811401659988:\n",
        "\n",
        "Indica o número ideal de neurônios para a segunda camada oculta.\n",
        "Ao arredondar, resulta em uma segunda camada oculta com 252 neurônios.\""
      ]
    }
  ],
  "metadata": {
    "kernelspec": {
      "display_name": "base",
      "language": "python",
      "name": "python3"
    },
    "language_info": {
      "codemirror_mode": {
        "name": "ipython",
        "version": 3
      },
      "file_extension": ".py",
      "mimetype": "text/x-python",
      "name": "python",
      "nbconvert_exporter": "python",
      "pygments_lexer": "ipython3",
      "version": "3.9.16"
    },
    "orig_nbformat": 4,
    "colab": {
      "provenance": []
    }
  },
  "nbformat": 4,
  "nbformat_minor": 0
}